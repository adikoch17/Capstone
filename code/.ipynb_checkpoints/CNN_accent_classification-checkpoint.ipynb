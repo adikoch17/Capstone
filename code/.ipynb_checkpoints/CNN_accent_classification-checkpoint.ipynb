{
 "cells": [
  {
   "cell_type": "code",
   "execution_count": 1,
   "id": "e6ae9e7d",
   "metadata": {},
   "outputs": [],
   "source": [
    "import librosa"
   ]
  },
  {
   "cell_type": "code",
   "execution_count": null,
   "id": "d2551e6f",
   "metadata": {},
   "outputs": [],
   "source": [
    "!pip install matplotlib"
   ]
  },
  {
   "cell_type": "code",
   "execution_count": 2,
   "id": "237efbe8",
   "metadata": {},
   "outputs": [],
   "source": [
    "import matplotlib.pyplot\n",
    "import os\n",
    "import pandas as pd\n",
    "import numpy as np"
   ]
  },
  {
   "cell_type": "code",
   "execution_count": null,
   "id": "c18210cb",
   "metadata": {},
   "outputs": [],
   "source": [
    "main_path=\"C:\\\\Users\\\\adity\\\\Desktop\\\\Capstone\\\\data\""
   ]
  },
  {
   "cell_type": "code",
   "execution_count": null,
   "id": "adf2c017",
   "metadata": {},
   "outputs": [],
   "source": [
    "data_files = list(os.listdir(main_path))"
   ]
  },
  {
   "cell_type": "code",
   "execution_count": null,
   "id": "2a97c55d",
   "metadata": {},
   "outputs": [],
   "source": [
    "metadata = {\"file_path\":[],\"category\":[]}\n",
    "\n",
    "count=-1\n",
    "cats = ['irish_english_male', 'midlands_english_female', 'midlands_english_male', \n",
    "        'northern_english_female', 'northern_english_male', 'scottish_english_female', 'scottish_english_male', \n",
    "        'southern_english_female', 'southern_english_male', 'welsh_english_female', 'welsh_english_male']\n",
    "for dirname, dirnames, filenames in os.walk(main_path):\n",
    "    # print path to all filenames.\n",
    "    file_paths=[]\n",
    "    for filename in filenames:\n",
    "        path= os.path.join(dirname, filename)\n",
    "        path = os.path.normpath(path)\n",
    "        file_paths.append(path.replace(\"\\\\\",\"/\"))\n",
    "    metadata['file_path']=metadata['file_path']+file_paths\n",
    "    metadata['category']=metadata['category']+([cats[count]]*len(file_paths))\n",
    "    count+=1"
   ]
  },
  {
   "cell_type": "code",
   "execution_count": null,
   "id": "dba5c0e0",
   "metadata": {},
   "outputs": [],
   "source": [
    "df = pd.DataFrame(metadata)"
   ]
  },
  {
   "cell_type": "code",
   "execution_count": null,
   "id": "d34c9e2b",
   "metadata": {},
   "outputs": [],
   "source": [
    "df.columns=['file_path','class_label']"
   ]
  },
  {
   "cell_type": "code",
   "execution_count": null,
   "id": "2f8b4b28",
   "metadata": {},
   "outputs": [],
   "source": [
    "df.to_csv(\"data_metadata.csv\",index=False)"
   ]
  },
  {
   "cell_type": "code",
   "execution_count": 3,
   "id": "9f18bd9b",
   "metadata": {},
   "outputs": [],
   "source": [
    "data = pd.read_csv(\"data_metadata.csv\")"
   ]
  },
  {
   "cell_type": "code",
   "execution_count": 4,
   "id": "6a7b35ac",
   "metadata": {},
   "outputs": [],
   "source": [
    "import tensorflow as tf\n",
    "from keras.utils import to_categorical"
   ]
  },
  {
   "cell_type": "code",
   "execution_count": 5,
   "id": "b0e252c2",
   "metadata": {},
   "outputs": [],
   "source": [
    "class AudioDataGenerator(tf.keras.utils.Sequence):\n",
    "    def __init__(self, csv_file, batch_size=32, num_classes=11, sample_rate=22050, duration=10.0, shuffle=True, n_mels=128):\n",
    "        self.csv_file = csv_file\n",
    "        self.batch_size = batch_size\n",
    "        self.num_classes = num_classes\n",
    "        self.sample_rate = sample_rate\n",
    "        self.duration = duration\n",
    "        self.shuffle = shuffle\n",
    "        self.n_mels  = n_mels\n",
    "        \n",
    "        # Read the CSV file\n",
    "        self.data = pd.read_csv(csv_file)\n",
    "        \n",
    "        # Get the unique class labels\n",
    "        self.classes = sorted(self.data['class_label'].unique())\n",
    "        \n",
    "        # Create a dictionary to map class labels to integers\n",
    "        self.class_to_int = dict(zip(self.classes, range(len(self.classes))))\n",
    "        \n",
    "        # Shuffle the data if requested\n",
    "        if self.shuffle:\n",
    "            self.data = self.data.sample(frac=1).reset_index(drop=True)\n",
    "    \n",
    "    def __len__(self):\n",
    "        # Return the number of batches\n",
    "        return int(np.ceil(len(self.data) / float(self.batch_size)))\n",
    "    \n",
    "    def __getitem__(self, idx):\n",
    "        # Get the batch of file paths and labels\n",
    "        batch_data = self.data[idx * self.batch_size:(idx + 1) * self.batch_size]\n",
    "        batch_data = batch_data.reset_index()\n",
    "        \n",
    "        # Initialize the arrays for the audio data and labels\n",
    "        batch_x = np.zeros((len(batch_data), self.n_mels, 431,1))\n",
    "        batch_y = np.zeros((len(batch_data), self.num_classes))\n",
    "        \n",
    "        # Load the audio files and their corresponding labels\n",
    "        for i, row in batch_data.iterrows():\n",
    "            file_path = row['file_path']\n",
    "            class_label = row['class_label']\n",
    "            \n",
    "            # Load the audio file\n",
    "            signal, sr = librosa.load(file_path, sr=self.sample_rate, mono=True)\n",
    "            \n",
    "            # Pad or truncate the signal to the desired length\n",
    "            signal = librosa.util.fix_length(signal, size=self.sample_rate * self.duration)\n",
    "            \n",
    "            # Convert the audio file to spectrogram\n",
    "            S = librosa.feature.melspectrogram(y=signal, sr=sr)\n",
    "            S_dB = np.array(librosa.power_to_db(S, ref=np.max))\n",
    "            S_dB = S_dB.reshape(S_dB.shape[0],S_dB.shape[1],1)\n",
    "            \n",
    "            # Save the audio data and label to the batch arrays\n",
    "            batch_x[i, :] = S_dB\n",
    "            batch_y[i, :] = to_categorical(self.class_to_int[class_label], num_classes=self.num_classes)\n",
    "            \n",
    "#         batch_x.reshape(self.batch_size,batch_x.shape[0],batch_x.shape[1])\n",
    "        return batch_x, batch_y"
   ]
  },
  {
   "cell_type": "code",
   "execution_count": null,
   "id": "bd29ce2f",
   "metadata": {},
   "outputs": [],
   "source": [
    "def split_data(data):\n",
    "    data = data.sample(frac=1,axis=0,ignore_index=True)\n",
    "    train = data[0:int(len(data)*0.8)]\n",
    "    test = data[int(len(data)*0.8):]\n",
    "    return train,test"
   ]
  },
  {
   "cell_type": "code",
   "execution_count": null,
   "id": "3fe2cdf2",
   "metadata": {},
   "outputs": [],
   "source": [
    "train_data,val_data = split_data(data)"
   ]
  },
  {
   "cell_type": "code",
   "execution_count": null,
   "id": "142df3e3",
   "metadata": {},
   "outputs": [],
   "source": [
    "train_data"
   ]
  },
  {
   "cell_type": "code",
   "execution_count": null,
   "id": "cb1a6865",
   "metadata": {},
   "outputs": [],
   "source": [
    "train_data.to_csv('train_data.csv',index=False)\n",
    "val_data.to_csv('val_data.csv',index=False)"
   ]
  },
  {
   "cell_type": "code",
   "execution_count": 6,
   "id": "c43abea6",
   "metadata": {},
   "outputs": [],
   "source": [
    "train_data = pd.read_csv(\"train_data.csv\")\n",
    "val_data = pd.read_csv(\"val_data.csv\")"
   ]
  },
  {
   "cell_type": "code",
   "execution_count": 7,
   "id": "9e473d60",
   "metadata": {},
   "outputs": [],
   "source": [
    "train_generator = AudioDataGenerator('train_data.csv', batch_size=32, num_classes=11, sample_rate=22050, duration=10, shuffle=True, n_mels=128)"
   ]
  },
  {
   "cell_type": "code",
   "execution_count": 8,
   "id": "53b23230",
   "metadata": {},
   "outputs": [],
   "source": [
    "from keras import backend as K\n",
    "\n",
    "def recall_m(y_true, y_pred):\n",
    "    true_positives = K.sum(K.round(K.clip(y_true * y_pred, 0, 1)))\n",
    "    possible_positives = K.sum(K.round(K.clip(y_true, 0, 1)))\n",
    "    recall = true_positives / (possible_positives + K.epsilon())\n",
    "    return recall\n",
    "\n",
    "def precision_m(y_true, y_pred):\n",
    "    true_positives = K.sum(K.round(K.clip(y_true * y_pred, 0, 1)))\n",
    "    predicted_positives = K.sum(K.round(K.clip(y_pred, 0, 1)))\n",
    "    precision = true_positives / (predicted_positives + K.epsilon())\n",
    "    return precision\n",
    "\n",
    "def f1_m(y_true, y_pred):\n",
    "    precision = precision_m(y_true, y_pred)\n",
    "    recall = recall_m(y_true, y_pred)\n",
    "    return 2*((precision*recall)/(precision+recall+K.epsilon()))"
   ]
  },
  {
   "cell_type": "code",
   "execution_count": 9,
   "id": "4a59e456",
   "metadata": {},
   "outputs": [],
   "source": [
    "import tensorflow as tf\n",
    "from tensorflow.keras.models import Sequential\n",
    "from tensorflow.keras.layers import Dense, Dropout, Activation, Flatten, Conv2D, MaxPooling2D"
   ]
  },
  {
   "cell_type": "code",
   "execution_count": 10,
   "id": "c3e06a62",
   "metadata": {},
   "outputs": [],
   "source": [
    "#Model 1\n",
    "model = Sequential()\n",
    "\n",
    "model.add(Conv2D(64,(3,3),input_shape=(128,431,1),activation='relu', padding='same'))\n",
    "model.add(MaxPooling2D(pool_size=(2,2)))\n",
    "\n",
    "model.add(Conv2D(64,(3,3),input_shape=(128,431,1),activation='relu', padding='same'))\n",
    "model.add(MaxPooling2D(pool_size=(2,2)))\n",
    "\n",
    "model.add(Conv2D(64,(3,3),input_shape=(128,431,1),activation='relu', padding='same'))\n",
    "model.add(MaxPooling2D(pool_size=(2,2)))\n",
    "\n",
    "model.add(Conv2D(64,(3,3),input_shape=(128,431,1),activation='relu', padding='same'))\n",
    "model.add(MaxPooling2D(pool_size=(2,2)))\n",
    "\n",
    "model.add(Conv2D(64,(3,3),input_shape=(128,431,1),activation='relu', padding='same'))\n",
    "model.add(MaxPooling2D(pool_size=(2,2)))\n",
    "\n",
    "model.add(Flatten())\n",
    "\n",
    "model.add(Dense(11,activation='softmax'))\n",
    "\n",
    "model.compile(loss='categorical_crossentropy',optimizer='adam',metrics=['accuracy',f1_m,precision_m, recall_m])"
   ]
  },
  {
   "cell_type": "code",
   "execution_count": 10,
   "id": "a88eed71",
   "metadata": {},
   "outputs": [],
   "source": [
    "#Model 2\n",
    "model = Sequential()\n",
    "\n",
    "model.add(Conv2D(32,(3,3),input_shape=(128,431,1),activation='relu', padding='same'))\n",
    "model.add(MaxPooling2D(pool_size=(2,2)))\n",
    "\n",
    "model.add(Conv2D(64,(3,3), activation='relu', padding='same'))\n",
    "model.add(MaxPooling2D(pool_size=(2,2)))\n",
    "\n",
    "model.add(Conv2D(128,(3,3), activation='relu', padding='same'))\n",
    "model.add(MaxPooling2D(pool_size=(2,2)))\n",
    "\n",
    "model.add(Flatten())\n",
    "\n",
    "model.add(Dense(11,activation='softmax'))\n",
    "\n",
    "model.compile(loss='categorical_crossentropy',optimizer='adam',metrics=['accuracy',f1_m,precision_m, recall_m])"
   ]
  },
  {
   "cell_type": "code",
   "execution_count": 11,
   "id": "f348fc1c",
   "metadata": {},
   "outputs": [
    {
     "name": "stdout",
     "output_type": "stream",
     "text": [
      "Model: \"sequential\"\n",
      "_________________________________________________________________\n",
      " Layer (type)                Output Shape              Param #   \n",
      "=================================================================\n",
      " conv2d (Conv2D)             (None, 128, 431, 32)      320       \n",
      "                                                                 \n",
      " max_pooling2d (MaxPooling2D  (None, 64, 215, 32)      0         \n",
      " )                                                               \n",
      "                                                                 \n",
      " conv2d_1 (Conv2D)           (None, 64, 215, 64)       18496     \n",
      "                                                                 \n",
      " max_pooling2d_1 (MaxPooling  (None, 32, 107, 64)      0         \n",
      " 2D)                                                             \n",
      "                                                                 \n",
      " conv2d_2 (Conv2D)           (None, 32, 107, 128)      73856     \n",
      "                                                                 \n",
      " max_pooling2d_2 (MaxPooling  (None, 16, 53, 128)      0         \n",
      " 2D)                                                             \n",
      "                                                                 \n",
      " flatten (Flatten)           (None, 108544)            0         \n",
      "                                                                 \n",
      " dense (Dense)               (None, 11)                1193995   \n",
      "                                                                 \n",
      "=================================================================\n",
      "Total params: 1,286,667\n",
      "Trainable params: 1,286,667\n",
      "Non-trainable params: 0\n",
      "_________________________________________________________________\n"
     ]
    }
   ],
   "source": [
    "model.summary()"
   ]
  },
  {
   "cell_type": "code",
   "execution_count": null,
   "id": "d7d6c19e",
   "metadata": {},
   "outputs": [],
   "source": [
    "os.environ[\"CUDA_VISIBLE_DEVICES\"]=\"-1\" "
   ]
  },
  {
   "cell_type": "code",
   "execution_count": 12,
   "id": "addfdcda",
   "metadata": {},
   "outputs": [
    {
     "name": "stdout",
     "output_type": "stream",
     "text": [
      "Epoch 1/8\n",
      "447/447 [==============================] - 393s 855ms/step - loss: 3.1834 - accuracy: 0.4008 - f1_m: 0.2077 - precision_m: 0.3853 - recall_m: 0.1522\n",
      "Epoch 2/8\n",
      "447/447 [==============================] - 365s 817ms/step - loss: 1.0554 - accuracy: 0.6117 - f1_m: 0.5618 - precision_m: 0.7202 - recall_m: 0.4694\n",
      "Epoch 3/8\n",
      "447/447 [==============================] - 366s 819ms/step - loss: 0.7846 - accuracy: 0.7082 - f1_m: 0.6866 - precision_m: 0.7789 - recall_m: 0.6174\n",
      "Epoch 4/8\n",
      "447/447 [==============================] - 364s 815ms/step - loss: 0.6560 - accuracy: 0.7513 - f1_m: 0.7392 - precision_m: 0.8048 - recall_m: 0.6860\n",
      "Epoch 5/8\n",
      "447/447 [==============================] - 365s 816ms/step - loss: 0.5835 - accuracy: 0.7776 - f1_m: 0.7701 - precision_m: 0.8231 - recall_m: 0.7258\n",
      "Epoch 6/8\n",
      "447/447 [==============================] - 362s 809ms/step - loss: 0.5129 - accuracy: 0.8073 - f1_m: 0.8001 - precision_m: 0.8422 - recall_m: 0.7633\n",
      "Epoch 7/8\n",
      "447/447 [==============================] - 365s 816ms/step - loss: 0.4478 - accuracy: 0.8276 - f1_m: 0.8259 - precision_m: 0.8601 - recall_m: 0.7956\n",
      "Epoch 8/8\n",
      "447/447 [==============================] - 400s 896ms/step - loss: 0.4003 - accuracy: 0.8490 - f1_m: 0.8473 - precision_m: 0.8747 - recall_m: 0.8227\n"
     ]
    }
   ],
   "source": [
    "history = model.fit(train_generator,batch_size=32,epochs=8,verbose=1)"
   ]
  },
  {
   "cell_type": "code",
   "execution_count": 13,
   "id": "d61dcc38",
   "metadata": {},
   "outputs": [],
   "source": [
    "val_generator = AudioDataGenerator('val_data.csv', batch_size=32, num_classes=11, sample_rate=22050, duration=10, shuffle=True, n_mels=128)"
   ]
  },
  {
   "cell_type": "code",
   "execution_count": 15,
   "id": "fd0c2ab3",
   "metadata": {},
   "outputs": [],
   "source": [
    "model.save(\"CNN_2.h5\")"
   ]
  },
  {
   "cell_type": "code",
   "execution_count": 15,
   "id": "6e687850",
   "metadata": {},
   "outputs": [],
   "source": [
    "model =tf.keras.models.load_model(\"CNN.h5\",custom_objects={\"f1_m\":f1_m,'precision_m':precision_m, 'recall_m':recall_m})"
   ]
  },
  {
   "cell_type": "code",
   "execution_count": 14,
   "id": "f30e6f83",
   "metadata": {},
   "outputs": [
    {
     "name": "stdout",
     "output_type": "stream",
     "text": [
      "112/112 [==============================] - 97s 853ms/step - loss: 0.7518 - accuracy: 0.7531 - f1_m: 0.7519 - precision_m: 0.7788 - recall_m: 0.7276\n"
     ]
    }
   ],
   "source": [
    "# Evaluate the model on the validation data\n",
    "loss, accuracy, f1_score, precision, recall = model.evaluate(val_generator)\n"
   ]
  },
  {
   "cell_type": "code",
   "execution_count": 16,
   "id": "bb01b0f4",
   "metadata": {},
   "outputs": [
    {
     "name": "stdout",
     "output_type": "stream",
     "text": [
      "Validation accuracy: 0.7530760765075684\n",
      "Validation loss: 0.7517701983451843\n",
      "Validation f1: 0.7519102692604065\n",
      "Validation precision: 0.77879399061203\n",
      "Validation recall: 0.7275856137275696\n"
     ]
    }
   ],
   "source": [
    "# Print the validation accuracy and loss\n",
    "print('Validation accuracy:', accuracy)\n",
    "print('Validation loss:', loss)\n",
    "print('Validation f1:', f1_score)\n",
    "print('Validation precision:', precision)\n",
    "print('Validation recall:', recall)\n"
   ]
  },
  {
   "cell_type": "code",
   "execution_count": 18,
   "id": "6bc1ea26",
   "metadata": {},
   "outputs": [],
   "source": [
    "import pickle"
   ]
  },
  {
   "cell_type": "code",
   "execution_count": 19,
   "id": "972ac297",
   "metadata": {},
   "outputs": [],
   "source": [
    "pickle_out = open(\"CNN_history.pickle\",\"wb\")\n",
    "pickle.dump(history.history, pickle_out)\n",
    "pickle_out.close()"
   ]
  },
  {
   "cell_type": "code",
   "execution_count": 20,
   "id": "1cfbc40c",
   "metadata": {},
   "outputs": [],
   "source": [
    "pickle_in = open('CNN_history.pickle', \"rb\")\n",
    "history = pickle.load(pickle_in)"
   ]
  },
  {
   "cell_type": "code",
   "execution_count": 17,
   "id": "6ae3fc23",
   "metadata": {},
   "outputs": [],
   "source": [
    "history = history.history"
   ]
  },
  {
   "cell_type": "code",
   "execution_count": 18,
   "id": "83fd9ac4",
   "metadata": {},
   "outputs": [],
   "source": [
    "# from plot_keras_history import show_history, plot_history\n",
    "import matplotlib.pyplot as plt"
   ]
  },
  {
   "cell_type": "code",
   "execution_count": 19,
   "id": "6a79fc4e",
   "metadata": {},
   "outputs": [
    {
     "name": "stdout",
     "output_type": "stream",
     "text": [
      "dict_keys(['loss', 'accuracy', 'f1_m', 'precision_m', 'recall_m'])\n"
     ]
    }
   ],
   "source": [
    "print(history.keys())"
   ]
  },
  {
   "cell_type": "code",
   "execution_count": 20,
   "id": "38e77ccc",
   "metadata": {},
   "outputs": [
    {
     "data": {
      "image/png": "[encoded data removed]",
      "text/plain": [
       "<Figure size 432x288 with 1 Axes>"
      ]
     },
     "metadata": {
      "needs_background": "light"
     },
     "output_type": "display_data"
    }
   ],
   "source": [
    "plt.plot(history['loss'])\n",
    "plt.title('model loss')\n",
    "plt.ylabel('loss')\n",
    "plt.xlabel('epoch')\n",
    "plt.show()\n",
    "plt.close()"
   ]
  },
  {
   "cell_type": "code",
   "execution_count": 21,
   "id": "2c221f5e",
   "metadata": {},
   "outputs": [
    {
     "data": {
      "image/png": "[encoded data removed]",
      "text/plain": [
       "<Figure size 432x288 with 1 Axes>"
      ]
     },
     "metadata": {
      "needs_background": "light"
     },
     "output_type": "display_data"
    }
   ],
   "source": [
    "plt.plot(history['accuracy'])\n",
    "plt.title('model accuracy')\n",
    "plt.ylabel('loss')\n",
    "plt.xlabel('epoch')\n",
    "plt.show()\n",
    "plt.close()"
   ]
  },
  {
   "cell_type": "code",
   "execution_count": 22,
   "id": "574c5efa",
   "metadata": {},
   "outputs": [
    {
     "data": {
      "image/png": "[encoded data removed]",
      "text/plain": [
       "<Figure size 432x288 with 1 Axes>"
      ]
     },
     "metadata": {
      "needs_background": "light"
     },
     "output_type": "display_data"
    }
   ],
   "source": [
    "plt.plot(history['f1_m'])\n",
    "plt.title('model f1 score')\n",
    "plt.ylabel('loss')\n",
    "plt.xlabel('epoch')\n",
    "plt.show()\n",
    "plt.close()"
   ]
  },
  {
   "cell_type": "code",
   "execution_count": 23,
   "id": "3f1256d1",
   "metadata": {},
   "outputs": [
    {
     "data": {
      "image/png": "[encoded data removed]",
      "text/plain": [
       "<Figure size 432x288 with 1 Axes>"
      ]
     },
     "metadata": {
      "needs_background": "light"
     },
     "output_type": "display_data"
    }
   ],
   "source": [
    "plt.plot(history['precision_m'])\n",
    "plt.plot(history['recall_m'])\n",
    "plt.title('model precision and recall')\n",
    "plt.ylabel('loss')\n",
    "plt.xlabel('epoch')\n",
    "plt.legend(['precision','recall'])\n",
    "plt.show()\n",
    "plt.close()"
   ]
  },
  {
   "cell_type": "code",
   "execution_count": null,
   "id": "c3413122",
   "metadata": {},
   "outputs": [],
   "source": []
  }
 ],
 "metadata": {
  "kernelspec": {
   "display_name": "Python 3",
   "language": "python",
   "name": "python3"
  },
  "language_info": {
   "codemirror_mode": {
    "name": "ipython",
    "version": 3
   },
   "file_extension": ".py",
   "mimetype": "text/x-python",
   "name": "python",
   "nbconvert_exporter": "python",
   "pygments_lexer": "ipython3",
   "version": "3.8.8"
  }
 },
 "nbformat": 4,
 "nbformat_minor": 5
}
