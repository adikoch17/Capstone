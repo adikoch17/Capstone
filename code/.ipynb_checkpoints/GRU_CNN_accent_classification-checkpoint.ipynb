{
 "cells": [
  {
   "cell_type": "code",
   "execution_count": 4,
   "id": "2b628d1d",
   "metadata": {},
   "outputs": [],
   "source": [
    "import numpy as np\n",
    "import pandas as pd\n",
    "import tensorflow as tf\n",
    "from tensorflow.keras.layers import Dense, Flatten, Reshape, Conv2D, MaxPooling2D, Conv1D, MaxPooling1D, GRU, Attention\n",
    "from keras.utils import to_categorical\n",
    "from tensorflow.keras.models import Sequential\n",
    "import librosa\n",
    "from keras.utils.vis_utils import plot_model"
   ]
  },
  {
   "cell_type": "markdown",
   "id": "bd5689f6",
   "metadata": {},
   "source": [
    "# Data Generator"
   ]
  },
  {
   "cell_type": "code",
   "execution_count": 5,
   "id": "c2d273cb",
   "metadata": {},
   "outputs": [],
   "source": [
    "data = pd.read_csv(\"data_metadata.csv\")\n",
    "train_data = pd.read_csv(\"train_data.csv\")\n",
    "val_data = pd.read_csv(\"val_data.csv\")"
   ]
  },
  {
   "cell_type": "code",
   "execution_count": 6,
   "id": "43fa74cb",
   "metadata": {},
   "outputs": [],
   "source": [
    "class AudioDataGenerator(tf.keras.utils.Sequence):\n",
    "    def __init__(self, csv_file, batch_size=32, num_classes=11, sample_rate=22050, duration=10.0, shuffle=True, n_mels=128):\n",
    "        self.csv_file = csv_file\n",
    "        self.batch_size = batch_size\n",
    "        self.num_classes = num_classes\n",
    "        self.sample_rate = sample_rate\n",
    "        self.duration = duration\n",
    "        self.shuffle = shuffle\n",
    "        self.n_mels  = n_mels\n",
    "        \n",
    "        # Read the CSV file\n",
    "        self.data = pd.read_csv(csv_file)\n",
    "        \n",
    "        # Get the unique class labels\n",
    "        self.classes = sorted(self.data['class_label'].unique())\n",
    "        \n",
    "        # Create a dictionary to map class labels to integers\n",
    "        self.class_to_int = dict(zip(self.classes, range(len(self.classes))))\n",
    "        \n",
    "        # Shuffle the data if requested\n",
    "        if self.shuffle:\n",
    "            self.data = self.data.sample(frac=1).reset_index(drop=True)\n",
    "    \n",
    "    def __len__(self):\n",
    "        # Return the number of batches\n",
    "        return int(np.ceil(len(self.data) / float(self.batch_size)))\n",
    "    \n",
    "    def __getitem__(self, idx):\n",
    "        # Get the batch of file paths and labels\n",
    "        batch_data = self.data[idx * self.batch_size:(idx + 1) * self.batch_size]\n",
    "        batch_data = batch_data.reset_index()\n",
    "        # Initialize the arrays for the audio data and labels\n",
    "        batch_x = np.zeros((len(batch_data), 431, self.n_mels,1))\n",
    "        batch_y = np.zeros((len(batch_data), self.num_classes))\n",
    "        \n",
    "        # Load the audio files and their corresponding labels\n",
    "        for i, row in batch_data.iterrows():\n",
    "            file_path = row['file_path']\n",
    "            class_label = row['class_label']\n",
    "            \n",
    "            # Load the audio file\n",
    "            signal, sr = librosa.load(file_path, sr=self.sample_rate, mono=True)\n",
    "            \n",
    "            # Pad or truncate the signal to the desired length\n",
    "            signal = librosa.util.fix_length(signal, size=self.sample_rate * self.duration)\n",
    "            \n",
    "            # Convert the audio file to spectrogram\n",
    "            S = librosa.feature.melspectrogram(y=signal, sr=sr, n_mels=self.n_mels)\n",
    "            S_dB = np.array(librosa.power_to_db(S, ref=np.max))\n",
    "            S_dB = np.rot90(S_dB, k=3)\n",
    "            S_dB = S_dB.reshape(S_dB.shape[0],S_dB.shape[1],1)\n",
    "            \n",
    "            # Save the audio data and label to the batch arrays\n",
    "            batch_x[i, :] = S_dB\n",
    "            batch_y[i, :] = to_categorical(self.class_to_int[class_label], num_classes=self.num_classes)\n",
    "            \n",
    "\n",
    "        return batch_x, batch_y"
   ]
  },
  {
   "cell_type": "code",
   "execution_count": 7,
   "id": "ae408afe",
   "metadata": {},
   "outputs": [],
   "source": [
    "train_generator = AudioDataGenerator('train_data.csv', batch_size=32, num_classes=11, sample_rate=22050, duration=10, shuffle=True, n_mels=128)"
   ]
  },
  {
   "cell_type": "code",
   "execution_count": 8,
   "id": "3322f2bf",
   "metadata": {},
   "outputs": [],
   "source": [
    "val_generator = AudioDataGenerator('val_data.csv', batch_size=32, num_classes=11, sample_rate=22050, duration=10, shuffle=True, n_mels=128)"
   ]
  },
  {
   "cell_type": "markdown",
   "id": "25d5b793",
   "metadata": {},
   "source": [
    "# Model creation"
   ]
  },
  {
   "cell_type": "code",
   "execution_count": 9,
   "id": "a0058590",
   "metadata": {},
   "outputs": [],
   "source": [
    "# Defining Metrics\n",
    "\n",
    "from keras import backend as K\n",
    "\n",
    "def recall_m(y_true, y_pred):\n",
    "    true_positives = K.sum(K.round(K.clip(y_true * y_pred, 0, 1)))\n",
    "    possible_positives = K.sum(K.round(K.clip(y_true, 0, 1)))\n",
    "    recall = true_positives / (possible_positives + K.epsilon())\n",
    "    return recall\n",
    "\n",
    "def precision_m(y_true, y_pred):\n",
    "    true_positives = K.sum(K.round(K.clip(y_true * y_pred, 0, 1)))\n",
    "    predicted_positives = K.sum(K.round(K.clip(y_pred, 0, 1)))\n",
    "    precision = true_positives / (predicted_positives + K.epsilon())\n",
    "    return precision\n",
    "\n",
    "def f1_m(y_true, y_pred):\n",
    "    precision = precision_m(y_true, y_pred)\n",
    "    recall = recall_m(y_true, y_pred)\n",
    "    return 2*((precision*recall)/(precision+recall+K.epsilon()))"
   ]
  },
  {
   "cell_type": "code",
   "execution_count": 10,
   "id": "218445a5",
   "metadata": {},
   "outputs": [],
   "source": [
    "from keras.layers import Conv2D, MaxPooling2D, Flatten, Dense, Input, GlobalAveragePooling2D, Reshape, Multiply, Lambda\n",
    "from keras.models import Model\n",
    "import keras.backend as K"
   ]
  },
  {
   "cell_type": "code",
   "execution_count": null,
   "id": "941ecfce",
   "metadata": {},
   "outputs": [],
   "source": [
    "# import os\n",
    "# os.environ[\"CUDA_VISIBLE_DEVICES\"]=\"-1\" "
   ]
  },
  {
   "cell_type": "code",
   "execution_count": 12,
   "id": "10c223bc",
   "metadata": {},
   "outputs": [],
   "source": [
    "from tensorflow.keras.models import Model\n",
    "from tensorflow.keras.layers import Input, Conv2D, MaxPooling2D, Flatten, LSTM, Dense, Multiply, Reshape, Permute, Lambda\n",
    "\n",
    "# Define the input shape of the spectrogram (time_steps, frequency_bins, channels)\n",
    "input_shape = (431, 128, 1)\n",
    "\n",
    "# Define the input tensor\n",
    "inputs = Input(shape=input_shape)\n",
    "\n",
    "# Define the CNN layers\n",
    "x = Conv2D(32, kernel_size=(2, 2), activation='relu', padding='same')(inputs)\n",
    "x = MaxPooling2D(pool_size=(2, 2))(x)\n",
    "x = Conv2D(64, kernel_size=(2, 2), activation='relu', padding='same')(x)\n",
    "x = MaxPooling2D(pool_size=(2, 2))(x)\n",
    "x = Conv2D(64, kernel_size=(2, 2), activation='relu', padding='same')(x)\n",
    "x = MaxPooling2D(pool_size=(2, 2))(x)\n",
    "\n",
    "# Reshape the output of the CNN layers to be a sequence of feature vectors\n",
    "x = Reshape((-1, 128))(x)\n",
    "\n",
    "# Define the GRU layers\n",
    "x = GRU(128, return_sequences=True)(x)\n",
    "x = GRU(128, return_sequences=True)(x)\n",
    "\n",
    "# Define the attention mechanism\n",
    "att = Dense(1, activation='tanh')(x)\n",
    "att = Flatten()(att)\n",
    "att = Dense(128, activation='softmax')(att)\n",
    "att = Lambda(lambda x: K.expand_dims(x))(att)\n",
    "att = Permute((2, 1))(att)\n",
    "x = Attention()([x, att])\n",
    "x = Lambda(lambda x: K.sum(x, axis=1))(x)\n",
    "\n",
    "# Define the classification layers\n",
    "x = Dense(64, activation='relu')(x)\n",
    "predictions = Dense(11, activation='softmax')(x)\n",
    "\n",
    "# Define the model\n",
    "model = Model(inputs=inputs, outputs=predictions)\n",
    "\n",
    "# Compile the model\n",
    "model.compile(loss='categorical_crossentropy', optimizer='adam', metrics=['accuracy',f1_m,precision_m, recall_m])"
   ]
  },
  {
   "cell_type": "code",
   "execution_count": 13,
   "id": "df5aa93f",
   "metadata": {},
   "outputs": [
    {
     "name": "stdout",
     "output_type": "stream",
     "text": [
      "Model: \"model_1\"\n",
      "__________________________________________________________________________________________________\n",
      " Layer (type)                   Output Shape         Param #     Connected to                     \n",
      "==================================================================================================\n",
      " input_2 (InputLayer)           [(None, 431, 128, 1  0           []                               \n",
      "                                )]                                                                \n",
      "                                                                                                  \n",
      " conv2d_3 (Conv2D)              (None, 431, 128, 32  160         ['input_2[0][0]']                \n",
      "                                )                                                                 \n",
      "                                                                                                  \n",
      " max_pooling2d_3 (MaxPooling2D)  (None, 215, 64, 32)  0          ['conv2d_3[0][0]']               \n",
      "                                                                                                  \n",
      " conv2d_4 (Conv2D)              (None, 215, 64, 64)  8256        ['max_pooling2d_3[0][0]']        \n",
      "                                                                                                  \n",
      " max_pooling2d_4 (MaxPooling2D)  (None, 107, 32, 64)  0          ['conv2d_4[0][0]']               \n",
      "                                                                                                  \n",
      " conv2d_5 (Conv2D)              (None, 107, 32, 64)  16448       ['max_pooling2d_4[0][0]']        \n",
      "                                                                                                  \n",
      " max_pooling2d_5 (MaxPooling2D)  (None, 53, 16, 64)  0           ['conv2d_5[0][0]']               \n",
      "                                                                                                  \n",
      " reshape_1 (Reshape)            (None, 424, 128)     0           ['max_pooling2d_5[0][0]']        \n",
      "                                                                                                  \n",
      " gru_2 (GRU)                    (None, 424, 128)     99072       ['reshape_1[0][0]']              \n",
      "                                                                                                  \n",
      " gru_3 (GRU)                    (None, 424, 128)     99072       ['gru_2[0][0]']                  \n",
      "                                                                                                  \n",
      " dense_4 (Dense)                (None, 424, 1)       129         ['gru_3[0][0]']                  \n",
      "                                                                                                  \n",
      " flatten_1 (Flatten)            (None, 424)          0           ['dense_4[0][0]']                \n",
      "                                                                                                  \n",
      " dense_5 (Dense)                (None, 128)          54400       ['flatten_1[0][0]']              \n",
      "                                                                                                  \n",
      " lambda_2 (Lambda)              (None, 128, 1)       0           ['dense_5[0][0]']                \n",
      "                                                                                                  \n",
      " permute_1 (Permute)            (None, 1, 128)       0           ['lambda_2[0][0]']               \n",
      "                                                                                                  \n",
      " attention_1 (Attention)        (None, 424, 128)     0           ['gru_3[0][0]',                  \n",
      "                                                                  'permute_1[0][0]']              \n",
      "                                                                                                  \n",
      " lambda_3 (Lambda)              (None, 128)          0           ['attention_1[0][0]']            \n",
      "                                                                                                  \n",
      " dense_6 (Dense)                (None, 64)           8256        ['lambda_3[0][0]']               \n",
      "                                                                                                  \n",
      " dense_7 (Dense)                (None, 11)           715         ['dense_6[0][0]']                \n",
      "                                                                                                  \n",
      "==================================================================================================\n",
      "Total params: 286,508\n",
      "Trainable params: 286,508\n",
      "Non-trainable params: 0\n",
      "__________________________________________________________________________________________________\n"
     ]
    }
   ],
   "source": [
    "model.summary()"
   ]
  },
  {
   "cell_type": "code",
   "execution_count": 30,
   "id": "dbe50d8c",
   "metadata": {},
   "outputs": [
    {
     "name": "stdout",
     "output_type": "stream",
     "text": [
      "Epoch 1/16\n",
      "447/447 [==============================] - 369s 825ms/step - loss: 1.5134 - accuracy: 0.4396 - f1_m: 0.2949 - precision_m: 0.5306 - recall_m: 0.2208\n",
      "Epoch 2/16\n",
      "447/447 [==============================] - 370s 828ms/step - loss: 1.3063 - accuracy: 0.5126 - f1_m: 0.4301 - precision_m: 0.6291 - recall_m: 0.3373\n",
      "Epoch 3/16\n",
      "447/447 [==============================] - 372s 832ms/step - loss: 0.9448 - accuracy: 0.6351 - f1_m: 0.6092 - precision_m: 0.7264 - recall_m: 0.5284\n",
      "Epoch 4/16\n",
      "447/447 [==============================] - 369s 824ms/step - loss: 0.7150 - accuracy: 0.7179 - f1_m: 0.7082 - precision_m: 0.7831 - recall_m: 0.6488\n",
      "Epoch 5/16\n",
      "447/447 [==============================] - 371s 829ms/step - loss: 0.5744 - accuracy: 0.7746 - f1_m: 0.7710 - precision_m: 0.8201 - recall_m: 0.7291\n",
      "Epoch 6/16\n",
      "447/447 [==============================] - 368s 823ms/step - loss: 0.4956 - accuracy: 0.8082 - f1_m: 0.8059 - precision_m: 0.8428 - recall_m: 0.7733\n",
      "Epoch 7/16\n",
      "447/447 [==============================] - 372s 831ms/step - loss: 0.4037 - accuracy: 0.8464 - f1_m: 0.8444 - precision_m: 0.8700 - recall_m: 0.8210\n",
      "Epoch 8/16\n",
      "447/447 [==============================] - 371s 830ms/step - loss: 0.3462 - accuracy: 0.8660 - f1_m: 0.8666 - precision_m: 0.8851 - recall_m: 0.8494\n",
      "Epoch 9/16\n",
      "447/447 [==============================] - 370s 827ms/step - loss: 0.3195 - accuracy: 0.8795 - f1_m: 0.8802 - precision_m: 0.8987 - recall_m: 0.8630\n",
      "Epoch 10/16\n",
      "447/447 [==============================] - 371s 831ms/step - loss: 0.2556 - accuracy: 0.9087 - f1_m: 0.9090 - precision_m: 0.9208 - recall_m: 0.8979\n",
      "Epoch 11/16\n",
      "447/447 [==============================] - 370s 827ms/step - loss: 0.2265 - accuracy: 0.9163 - f1_m: 0.9168 - precision_m: 0.9275 - recall_m: 0.9068\n",
      "Epoch 12/16\n",
      "447/447 [==============================] - 371s 830ms/step - loss: 0.2060 - accuracy: 0.9236 - f1_m: 0.9232 - precision_m: 0.9312 - recall_m: 0.9157\n",
      "Epoch 13/16\n",
      "447/447 [==============================] - 373s 835ms/step - loss: 0.1831 - accuracy: 0.9338 - f1_m: 0.9340 - precision_m: 0.9403 - recall_m: 0.9281\n",
      "Epoch 14/16\n",
      "447/447 [==============================] - 372s 831ms/step - loss: 0.1709 - accuracy: 0.9376 - f1_m: 0.9382 - precision_m: 0.9446 - recall_m: 0.9321\n",
      "Epoch 15/16\n",
      "447/447 [==============================] - 395s 883ms/step - loss: 0.1761 - accuracy: 0.9371 - f1_m: 0.9369 - precision_m: 0.9420 - recall_m: 0.9320\n",
      "Epoch 16/16\n",
      "447/447 [==============================] - 386s 863ms/step - loss: 0.1267 - accuracy: 0.9515 - f1_m: 0.9524 - precision_m: 0.9561 - recall_m: 0.9488\n"
     ]
    }
   ],
   "source": [
    "history = model.fit(train_generator,batch_size=32,epochs=16,verbose=1)"
   ]
  },
  {
   "cell_type": "code",
   "execution_count": 34,
   "id": "ce389f2c",
   "metadata": {},
   "outputs": [],
   "source": [
    "model.save(\"CNN_GRU.h5\")"
   ]
  },
  {
   "cell_type": "code",
   "execution_count": 14,
   "id": "e7ee22d7",
   "metadata": {},
   "outputs": [],
   "source": [
    "model =tf.keras.models.load_model(\"CNN_GRU.h5\",custom_objects={\"f1_m\":f1_m,'precision_m':precision_m, 'recall_m':recall_m})"
   ]
  },
  {
   "cell_type": "code",
   "execution_count": null,
   "id": "35006ecc",
   "metadata": {},
   "outputs": [],
   "source": [
    "loss, accuracy, f1_score, precision, recall = model.evaluate(val_generator)"
   ]
  },
  {
   "cell_type": "code",
   "execution_count": 37,
   "id": "48bfb8ba",
   "metadata": {},
   "outputs": [
    {
     "name": "stdout",
     "output_type": "stream",
     "text": [
      "Validation accuracy: 0.9409955143928528\n",
      "Validation loss: 0.1568298637866974\n",
      "Validation f1: 0.9417795538902283\n",
      "Validation precision: 0.9517194032669067\n",
      "Validation recall: 0.9323846697807312\n"
     ]
    }
   ],
   "source": [
    "print('Validation accuracy:', accuracy)\n",
    "print('Validation loss:', loss)\n",
    "print('Validation f1:', f1_score)\n",
    "print('Validation precision:', precision)\n",
    "print('Validation recall:', recall)\n"
   ]
  },
  {
   "cell_type": "code",
   "execution_count": 16,
   "id": "09a6a98a",
   "metadata": {},
   "outputs": [],
   "source": [
    "import pickle"
   ]
  },
  {
   "cell_type": "code",
   "execution_count": null,
   "id": "baa44a46",
   "metadata": {},
   "outputs": [],
   "source": [
    "pickle_out = open(\"CNN_GRU_history.pickle\",\"wb\")\n",
    "pickle.dump(history.history, pickle_out)\n",
    "pickle_out.close()"
   ]
  },
  {
   "cell_type": "code",
   "execution_count": 18,
   "id": "8e3957ff",
   "metadata": {},
   "outputs": [],
   "source": [
    "pickle_out.close()"
   ]
  },
  {
   "cell_type": "code",
   "execution_count": null,
   "id": "2eb4a39a",
   "metadata": {},
   "outputs": [],
   "source": [
    "pickle_in = open('CNN_GRU_history.pickle', \"rb\")\n",
    "history = pickle.load(pickle_in)"
   ]
  },
  {
   "cell_type": "code",
   "execution_count": 42,
   "id": "5973ebc3",
   "metadata": {},
   "outputs": [],
   "source": [
    "history = history"
   ]
  },
  {
   "cell_type": "code",
   "execution_count": 43,
   "id": "dada88c5",
   "metadata": {},
   "outputs": [],
   "source": [
    "import matplotlib.pyplot as plt"
   ]
  },
  {
   "cell_type": "code",
   "execution_count": 44,
   "id": "d9cc5c12",
   "metadata": {},
   "outputs": [
    {
     "data": {
      "image/png": "[encoded data removed]",
      "text/plain": [
       "<Figure size 432x288 with 1 Axes>"
      ]
     },
     "metadata": {
      "needs_background": "light"
     },
     "output_type": "display_data"
    }
   ],
   "source": [
    "plt.plot(history['loss'])\n",
    "plt.title('model loss')\n",
    "plt.ylabel('loss')\n",
    "plt.xlabel('epoch')\n",
    "plt.show()\n",
    "plt.close()"
   ]
  },
  {
   "cell_type": "code",
   "execution_count": 45,
   "id": "d8fa287e",
   "metadata": {},
   "outputs": [
    {
     "data": {
      "image/png": "[encoded data removed]",
      "text/plain": [
       "<Figure size 432x288 with 1 Axes>"
      ]
     },
     "metadata": {
      "needs_background": "light"
     },
     "output_type": "display_data"
    }
   ],
   "source": [
    "plt.plot(history['accuracy'])\n",
    "plt.title('model accuracy')\n",
    "plt.ylabel('loss')\n",
    "plt.xlabel('epoch')\n",
    "plt.show()\n",
    "plt.close()"
   ]
  },
  {
   "cell_type": "code",
   "execution_count": 46,
   "id": "bd1db366",
   "metadata": {},
   "outputs": [
    {
     "data": {
      "image/png": "[encoded data removed]",
      "text/plain": [
       "<Figure size 432x288 with 1 Axes>"
      ]
     },
     "metadata": {
      "needs_background": "light"
     },
     "output_type": "display_data"
    }
   ],
   "source": [
    "plt.plot(history['f1_m'])\n",
    "plt.title('model f1 score')\n",
    "plt.ylabel('loss')\n",
    "plt.xlabel('epoch')\n",
    "plt.show()\n",
    "plt.close()"
   ]
  },
  {
   "cell_type": "code",
   "execution_count": 47,
   "id": "6f577c94",
   "metadata": {},
   "outputs": [
    {
     "data": {
      "image/png": "[encoded data removed]",
      "text/plain": [
       "<Figure size 432x288 with 1 Axes>"
      ]
     },
     "metadata": {
      "needs_background": "light"
     },
     "output_type": "display_data"
    }
   ],
   "source": [
    "plt.plot(history['precision_m'])\n",
    "plt.plot(history['recall_m'])\n",
    "plt.title('model precision and recall')\n",
    "plt.ylabel('loss')\n",
    "plt.xlabel('epoch')\n",
    "plt.legend(['precision','recall'])\n",
    "plt.show()\n",
    "plt.close()"
   ]
  },
  {
   "cell_type": "code",
   "execution_count": null,
   "id": "a5415058",
   "metadata": {},
   "outputs": [],
   "source": []
  }
 ],
 "metadata": {
  "kernelspec": {
   "display_name": "Python 3",
   "language": "python",
   "name": "python3"
  },
  "language_info": {
   "codemirror_mode": {
    "name": "ipython",
    "version": 3
   },
   "file_extension": ".py",
   "mimetype": "text/x-python",
   "name": "python",
   "nbconvert_exporter": "python",
   "pygments_lexer": "ipython3",
   "version": "3.8.8"
  }
 },
 "nbformat": 4,
 "nbformat_minor": 5
}
