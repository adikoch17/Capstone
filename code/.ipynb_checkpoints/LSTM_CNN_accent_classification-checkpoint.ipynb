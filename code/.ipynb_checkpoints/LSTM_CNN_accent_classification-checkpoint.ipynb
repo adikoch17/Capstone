{
 "cells": [
  {
   "cell_type": "code",
   "execution_count": 15,
   "id": "2b628d1d",
   "metadata": {},
   "outputs": [],
   "source": [
    "import numpy as np\n",
    "import pandas as pd\n",
    "import tensorflow as tf\n",
    "from tensorflow.keras.layers import Dense, Flatten, Reshape, Conv2D, MaxPooling2D, Conv1D, MaxPooling1D, LSTM\n",
    "from keras.utils import to_categorical\n",
    "from tensorflow.keras.models import Sequential\n",
    "import librosa"
   ]
  },
  {
   "cell_type": "markdown",
   "id": "bd5689f6",
   "metadata": {},
   "source": [
    "# Data Generator"
   ]
  },
  {
   "cell_type": "code",
   "execution_count": 16,
   "id": "c2d273cb",
   "metadata": {},
   "outputs": [],
   "source": [
    "data = pd.read_csv(\"data_metadata.csv\")\n",
    "train_data = pd.read_csv(\"train_data.csv\")\n",
    "val_data = pd.read_csv(\"val_data.csv\")"
   ]
  },
  {
   "cell_type": "code",
   "execution_count": 17,
   "id": "43fa74cb",
   "metadata": {},
   "outputs": [],
   "source": [
    "class AudioDataGenerator(tf.keras.utils.Sequence):\n",
    "    def __init__(self, csv_file, batch_size=32, num_classes=11, sample_rate=22050, duration=10.0, shuffle=True, n_mels=128):\n",
    "        self.csv_file = csv_file\n",
    "        self.batch_size = batch_size\n",
    "        self.num_classes = num_classes\n",
    "        self.sample_rate = sample_rate\n",
    "        self.duration = duration\n",
    "        self.shuffle = shuffle\n",
    "        self.n_mels  = n_mels\n",
    "        \n",
    "        # Read the CSV file\n",
    "        self.data = pd.read_csv(csv_file)\n",
    "        \n",
    "        # Get the unique class labels\n",
    "        self.classes = sorted(self.data['class_label'].unique())\n",
    "        \n",
    "        # Create a dictionary to map class labels to integers\n",
    "        self.class_to_int = dict(zip(self.classes, range(len(self.classes))))\n",
    "        \n",
    "        # Shuffle the data if requested\n",
    "        if self.shuffle:\n",
    "            self.data = self.data.sample(frac=1).reset_index(drop=True)\n",
    "    \n",
    "    def __len__(self):\n",
    "        # Return the number of batches\n",
    "        return int(np.ceil(len(self.data) / float(self.batch_size)))\n",
    "    \n",
    "    def __getitem__(self, idx):\n",
    "        # Get the batch of file paths and labels\n",
    "        batch_data = self.data[idx * self.batch_size:(idx + 1) * self.batch_size]\n",
    "        batch_data = batch_data.reset_index()\n",
    "        # Initialize the arrays for the audio data and labels\n",
    "        batch_x = np.zeros((len(batch_data), 431, self.n_mels,1))\n",
    "        batch_y = np.zeros((len(batch_data), self.num_classes))\n",
    "        \n",
    "        # Load the audio files and their corresponding labels\n",
    "        for i, row in batch_data.iterrows():\n",
    "            file_path = row['file_path']\n",
    "            class_label = row['class_label']\n",
    "            \n",
    "            # Load the audio file\n",
    "            signal, sr = librosa.load(file_path, sr=self.sample_rate, mono=True)\n",
    "            \n",
    "            # Pad or truncate the signal to the desired length\n",
    "            signal = librosa.util.fix_length(signal, size=self.sample_rate * self.duration)\n",
    "            \n",
    "            # Convert the audio file to spectrogram\n",
    "            S = librosa.feature.melspectrogram(y=signal, sr=sr, n_mels=self.n_mels)\n",
    "            S_dB = np.array(librosa.power_to_db(S, ref=np.max))\n",
    "            S_dB = np.rot90(S_dB, k=3)\n",
    "            S_dB = S_dB.reshape(S_dB.shape[0],S_dB.shape[1],1)\n",
    "            \n",
    "            # Save the audio data and label to the batch arrays\n",
    "            batch_x[i, :] = S_dB\n",
    "            batch_y[i, :] = to_categorical(self.class_to_int[class_label], num_classes=self.num_classes)\n",
    "            \n",
    "\n",
    "        return batch_x, batch_y"
   ]
  },
  {
   "cell_type": "code",
   "execution_count": 18,
   "id": "ae408afe",
   "metadata": {},
   "outputs": [],
   "source": [
    "train_generator = AudioDataGenerator('train_data.csv', batch_size=32, num_classes=11, sample_rate=22050, duration=10, shuffle=True, n_mels=128)"
   ]
  },
  {
   "cell_type": "code",
   "execution_count": 19,
   "id": "3322f2bf",
   "metadata": {},
   "outputs": [],
   "source": [
    "val_generator = AudioDataGenerator('val_data.csv', batch_size=32, num_classes=11, sample_rate=22050, duration=10, shuffle=True, n_mels=128)"
   ]
  },
  {
   "cell_type": "markdown",
   "id": "25d5b793",
   "metadata": {},
   "source": [
    "# Model creation"
   ]
  },
  {
   "cell_type": "code",
   "execution_count": 20,
   "id": "a0058590",
   "metadata": {},
   "outputs": [],
   "source": [
    "# Defining Metrics\n",
    "\n",
    "from keras import backend as K\n",
    "\n",
    "def recall_m(y_true, y_pred):\n",
    "    true_positives = K.sum(K.round(K.clip(y_true * y_pred, 0, 1)))\n",
    "    possible_positives = K.sum(K.round(K.clip(y_true, 0, 1)))\n",
    "    recall = true_positives / (possible_positives + K.epsilon())\n",
    "    return recall\n",
    "\n",
    "def precision_m(y_true, y_pred):\n",
    "    true_positives = K.sum(K.round(K.clip(y_true * y_pred, 0, 1)))\n",
    "    predicted_positives = K.sum(K.round(K.clip(y_pred, 0, 1)))\n",
    "    precision = true_positives / (predicted_positives + K.epsilon())\n",
    "    return precision\n",
    "\n",
    "def f1_m(y_true, y_pred):\n",
    "    precision = precision_m(y_true, y_pred)\n",
    "    recall = recall_m(y_true, y_pred)\n",
    "    return 2*((precision*recall)/(precision+recall+K.epsilon()))"
   ]
  },
  {
   "cell_type": "code",
   "execution_count": 21,
   "id": "218445a5",
   "metadata": {},
   "outputs": [],
   "source": [
    "from keras.layers import Conv2D, MaxPooling2D, Flatten, Dense, Input, GlobalAveragePooling2D, Reshape, Multiply, Lambda\n",
    "from keras.models import Model\n",
    "import keras.backend as K"
   ]
  },
  {
   "cell_type": "code",
   "execution_count": 21,
   "id": "941ecfce",
   "metadata": {},
   "outputs": [],
   "source": [
    "# import os\n",
    "# os.environ[\"CUDA_VISIBLE_DEVICES\"]=\"-1\" "
   ]
  },
  {
   "cell_type": "code",
   "execution_count": 22,
   "id": "10c223bc",
   "metadata": {},
   "outputs": [],
   "source": [
    "from tensorflow.keras.models import Model\n",
    "from tensorflow.keras.layers import Input, Conv2D, MaxPooling2D, Flatten, LSTM, Dense, Multiply, Reshape, Permute, Lambda\n",
    "\n",
    "# Define the input shape of the spectrogram (time_steps, frequency_bins, channels)\n",
    "input_shape = (431, 128, 1)\n",
    "\n",
    "# Define the input tensor\n",
    "inputs = Input(shape=input_shape)\n",
    "\n",
    "# Define the CNN layers\n",
    "x = Conv2D(32, kernel_size=(3, 3), activation='relu', padding='same')(inputs)\n",
    "x = MaxPooling2D(pool_size=(2, 2))(x)\n",
    "x = Conv2D(64, kernel_size=(3, 3), activation='relu', padding='same')(x)\n",
    "x = MaxPooling2D(pool_size=(2, 2))(x)\n",
    "x = Conv2D(128, kernel_size=(3, 3), activation='relu', padding='same')(x)\n",
    "x = MaxPooling2D(pool_size=(2, 2))(x)\n",
    "\n",
    "# Reshape the output of the CNN layers to be a sequence of feature vectors\n",
    "x = Reshape((-1, 128))(x)\n",
    "\n",
    "# Define the LSTM layers\n",
    "x = LSTM(128, return_sequences=True)(x)\n",
    "x = LSTM(128, return_sequences=True)(x)\n",
    "\n",
    "# Define the attention mechanism\n",
    "att = Dense(1, activation='tanh')(x)\n",
    "att = Flatten()(att)\n",
    "att = Dense(128, activation='softmax')(att)\n",
    "att = Lambda(lambda x: K.expand_dims(x))(att)\n",
    "att = Permute((2, 1))(att)\n",
    "x = Multiply()([x, att])\n",
    "x = Lambda(lambda x: K.sum(x, axis=1))(x)\n",
    "\n",
    "# Define the classification layers\n",
    "x = Dense(64, activation='relu')(x)\n",
    "predictions = Dense(11, activation='softmax')(x)\n",
    "\n",
    "# Define the model\n",
    "model = Model(inputs=inputs, outputs=predictions)\n",
    "\n",
    "# Compile the model\n",
    "model.compile(loss='categorical_crossentropy', optimizer='adam', metrics=['accuracy',f1_m,precision_m, recall_m])\n"
   ]
  },
  {
   "cell_type": "code",
   "execution_count": 23,
   "id": "df5aa93f",
   "metadata": {},
   "outputs": [
    {
     "name": "stdout",
     "output_type": "stream",
     "text": [
      "Model: \"model_3\"\n",
      "__________________________________________________________________________________________________\n",
      " Layer (type)                   Output Shape         Param #     Connected to                     \n",
      "==================================================================================================\n",
      " input_4 (InputLayer)           [(None, 431, 128, 1  0           []                               \n",
      "                                )]                                                                \n",
      "                                                                                                  \n",
      " conv2d_9 (Conv2D)              (None, 431, 128, 32  320         ['input_4[0][0]']                \n",
      "                                )                                                                 \n",
      "                                                                                                  \n",
      " max_pooling2d_9 (MaxPooling2D)  (None, 215, 64, 32)  0          ['conv2d_9[0][0]']               \n",
      "                                                                                                  \n",
      " conv2d_10 (Conv2D)             (None, 215, 64, 64)  18496       ['max_pooling2d_9[0][0]']        \n",
      "                                                                                                  \n",
      " max_pooling2d_10 (MaxPooling2D  (None, 107, 32, 64)  0          ['conv2d_10[0][0]']              \n",
      " )                                                                                                \n",
      "                                                                                                  \n",
      " conv2d_11 (Conv2D)             (None, 107, 32, 128  73856       ['max_pooling2d_10[0][0]']       \n",
      "                                )                                                                 \n",
      "                                                                                                  \n",
      " max_pooling2d_11 (MaxPooling2D  (None, 53, 16, 128)  0          ['conv2d_11[0][0]']              \n",
      " )                                                                                                \n",
      "                                                                                                  \n",
      " reshape_3 (Reshape)            (None, 848, 128)     0           ['max_pooling2d_11[0][0]']       \n",
      "                                                                                                  \n",
      " lstm_6 (LSTM)                  (None, 848, 128)     131584      ['reshape_3[0][0]']              \n",
      "                                                                                                  \n",
      " lstm_7 (LSTM)                  (None, 848, 128)     131584      ['lstm_6[0][0]']                 \n",
      "                                                                                                  \n",
      " dense_12 (Dense)               (None, 848, 1)       129         ['lstm_7[0][0]']                 \n",
      "                                                                                                  \n",
      " flatten_3 (Flatten)            (None, 848)          0           ['dense_12[0][0]']               \n",
      "                                                                                                  \n",
      " dense_13 (Dense)               (None, 128)          108672      ['flatten_3[0][0]']              \n",
      "                                                                                                  \n",
      " lambda_6 (Lambda)              (None, 128, 1)       0           ['dense_13[0][0]']               \n",
      "                                                                                                  \n",
      " permute_3 (Permute)            (None, 1, 128)       0           ['lambda_6[0][0]']               \n",
      "                                                                                                  \n",
      " multiply_3 (Multiply)          (None, 848, 128)     0           ['lstm_7[0][0]',                 \n",
      "                                                                  'permute_3[0][0]']              \n",
      "                                                                                                  \n",
      " lambda_7 (Lambda)              (None, 128)          0           ['multiply_3[0][0]']             \n",
      "                                                                                                  \n",
      " dense_14 (Dense)               (None, 64)           8256        ['lambda_7[0][0]']               \n",
      "                                                                                                  \n",
      " dense_15 (Dense)               (None, 11)           715         ['dense_14[0][0]']               \n",
      "                                                                                                  \n",
      "==================================================================================================\n",
      "Total params: 473,612\n",
      "Trainable params: 473,612\n",
      "Non-trainable params: 0\n",
      "__________________________________________________________________________________________________\n"
     ]
    }
   ],
   "source": [
    "model.summary()"
   ]
  },
  {
   "cell_type": "code",
   "execution_count": 24,
   "id": "dbe50d8c",
   "metadata": {},
   "outputs": [
    {
     "name": "stdout",
     "output_type": "stream",
     "text": [
      "Epoch 1/20\n",
      "447/447 [==============================] - 375s 832ms/step - loss: 1.9836 - accuracy: 0.3139 - f1_m: 0.0739 - precision_m: 0.1447 - recall_m: 0.0530\n",
      "Epoch 2/20\n",
      "447/447 [==============================] - 372s 831ms/step - loss: 1.4458 - accuracy: 0.4571 - f1_m: 0.3111 - precision_m: 0.5555 - recall_m: 0.2298\n",
      "Epoch 3/20\n",
      "447/447 [==============================] - 370s 827ms/step - loss: 1.3596 - accuracy: 0.4911 - f1_m: 0.3687 - precision_m: 0.6121 - recall_m: 0.2711\n",
      "Epoch 4/20\n",
      "447/447 [==============================] - 369s 825ms/step - loss: 1.1944 - accuracy: 0.5483 - f1_m: 0.4640 - precision_m: 0.6947 - recall_m: 0.3554\n",
      "Epoch 5/20\n",
      "447/447 [==============================] - 370s 828ms/step - loss: 0.8966 - accuracy: 0.6490 - f1_m: 0.6113 - precision_m: 0.7749 - recall_m: 0.5124\n",
      "Epoch 6/20\n",
      "447/447 [==============================] - 368s 823ms/step - loss: 0.6066 - accuracy: 0.7628 - f1_m: 0.7552 - precision_m: 0.8270 - recall_m: 0.6975\n",
      "Epoch 7/20\n",
      "447/447 [==============================] - 368s 822ms/step - loss: 0.4092 - accuracy: 0.8429 - f1_m: 0.8428 - precision_m: 0.8771 - recall_m: 0.8122\n",
      "Epoch 8/20\n",
      "447/447 [==============================] - 370s 827ms/step - loss: 0.3218 - accuracy: 0.8794 - f1_m: 0.8799 - precision_m: 0.9014 - recall_m: 0.8602\n",
      "Epoch 9/20\n",
      "447/447 [==============================] - 369s 824ms/step - loss: 0.2318 - accuracy: 0.9129 - f1_m: 0.9130 - precision_m: 0.9257 - recall_m: 0.9010\n",
      "Epoch 10/20\n",
      "447/447 [==============================] - 370s 827ms/step - loss: 0.1925 - accuracy: 0.9298 - f1_m: 0.9296 - precision_m: 0.9394 - recall_m: 0.9203\n",
      "Epoch 11/20\n",
      "447/447 [==============================] - 370s 827ms/step - loss: 0.1509 - accuracy: 0.9483 - f1_m: 0.9478 - precision_m: 0.9552 - recall_m: 0.9408\n",
      "Epoch 12/20\n",
      "447/447 [==============================] - 370s 827ms/step - loss: 0.1078 - accuracy: 0.9618 - f1_m: 0.9618 - precision_m: 0.9666 - recall_m: 0.9573\n",
      "Epoch 13/20\n",
      "447/447 [==============================] - 370s 828ms/step - loss: 0.1278 - accuracy: 0.9563 - f1_m: 0.9561 - precision_m: 0.9612 - recall_m: 0.9513\n",
      "Epoch 14/20\n",
      "447/447 [==============================] - 368s 823ms/step - loss: 0.1027 - accuracy: 0.9618 - f1_m: 0.9626 - precision_m: 0.9664 - recall_m: 0.9589\n",
      "Epoch 15/20\n",
      "447/447 [==============================] - 373s 835ms/step - loss: 0.0841 - accuracy: 0.9711 - f1_m: 0.9717 - precision_m: 0.9745 - recall_m: 0.9690\n",
      "Epoch 16/20\n",
      "447/447 [==============================] - 370s 827ms/step - loss: 0.0890 - accuracy: 0.9699 - f1_m: 0.9702 - precision_m: 0.9731 - recall_m: 0.9674\n",
      "Epoch 17/20\n",
      "447/447 [==============================] - 369s 824ms/step - loss: 0.0708 - accuracy: 0.9758 - f1_m: 0.9756 - precision_m: 0.9779 - recall_m: 0.9733\n",
      "Epoch 18/20\n",
      "447/447 [==============================] - 371s 830ms/step - loss: 0.0692 - accuracy: 0.9771 - f1_m: 0.9769 - precision_m: 0.9788 - recall_m: 0.9752\n",
      "Epoch 19/20\n",
      "447/447 [==============================] - 370s 828ms/step - loss: 0.0564 - accuracy: 0.9813 - f1_m: 0.9815 - precision_m: 0.9836 - recall_m: 0.9795\n",
      "Epoch 20/20\n",
      "447/447 [==============================] - 375s 839ms/step - loss: 0.0506 - accuracy: 0.9824 - f1_m: 0.9828 - precision_m: 0.9842 - recall_m: 0.9815\n"
     ]
    }
   ],
   "source": [
    "history = model.fit(train_generator,batch_size=32,epochs=20,verbose=1)"
   ]
  },
  {
   "cell_type": "code",
   "execution_count": 29,
   "id": "c16ffb6e",
   "metadata": {},
   "outputs": [],
   "source": [
    "model.save(\"CNN_LSTM.h5\")"
   ]
  },
  {
   "cell_type": "code",
   "execution_count": 25,
   "id": "35006ecc",
   "metadata": {},
   "outputs": [
    {
     "name": "stdout",
     "output_type": "stream",
     "text": [
      "112/112 [==============================] - 96s 843ms/step - loss: 0.4848 - accuracy: 0.9024 - f1_m: 0.9021 - precision_m: 0.9056 - recall_m: 0.8987\n"
     ]
    }
   ],
   "source": [
    "loss, accuracy, f1_score, precision, recall = model.evaluate(val_generator)"
   ]
  },
  {
   "cell_type": "code",
   "execution_count": 26,
   "id": "48bfb8ba",
   "metadata": {},
   "outputs": [
    {
     "name": "stdout",
     "output_type": "stream",
     "text": [
      "Validation accuracy: 0.9024049043655396\n",
      "Validation loss: 0.4848320484161377\n",
      "Validation f1: 0.9021127820014954\n",
      "Validation precision: 0.9056277871131897\n",
      "Validation recall: 0.8987165093421936\n"
     ]
    }
   ],
   "source": [
    "print('Validation accuracy:', accuracy)\n",
    "print('Validation loss:', loss)\n",
    "print('Validation f1:', f1_score)\n",
    "print('Validation precision:', precision)\n",
    "print('Validation recall:', recall)\n"
   ]
  },
  {
   "cell_type": "code",
   "execution_count": 27,
   "id": "09a6a98a",
   "metadata": {},
   "outputs": [],
   "source": [
    "import pickle"
   ]
  },
  {
   "cell_type": "code",
   "execution_count": 28,
   "id": "baa44a46",
   "metadata": {},
   "outputs": [],
   "source": [
    "pickle_out = open(\"CNN_LSTM_history.pickle\",\"wb\")\n",
    "pickle.dump(history.history, pickle_out)\n",
    "pickle_out.close()"
   ]
  },
  {
   "cell_type": "code",
   "execution_count": 30,
   "id": "2eb4a39a",
   "metadata": {},
   "outputs": [],
   "source": [
    "pickle_in = open('CNN_history.pickle', \"rb\")\n",
    "history = pickle.load(pickle_in)"
   ]
  },
  {
   "cell_type": "code",
   "execution_count": 32,
   "id": "dada88c5",
   "metadata": {},
   "outputs": [],
   "source": [
    "import matplotlib.pyplot as plt"
   ]
  },
  {
   "cell_type": "code",
   "execution_count": 33,
   "id": "d9cc5c12",
   "metadata": {},
   "outputs": [
    {
     "data": {
      "image/png": "[encoded data removed]",
      "text/plain": [
       "<Figure size 432x288 with 1 Axes>"
      ]
     },
     "metadata": {
      "needs_background": "light"
     },
     "output_type": "display_data"
    }
   ],
   "source": [
    "plt.plot(history['loss'])\n",
    "plt.title('model loss')\n",
    "plt.ylabel('loss')\n",
    "plt.xlabel('epoch')\n",
    "plt.show()\n",
    "plt.close()"
   ]
  },
  {
   "cell_type": "code",
   "execution_count": 34,
   "id": "d8fa287e",
   "metadata": {},
   "outputs": [
    {
     "data": {
      "image/png": "[encoded data removed]",
      "text/plain": [
       "<Figure size 432x288 with 1 Axes>"
      ]
     },
     "metadata": {
      "needs_background": "light"
     },
     "output_type": "display_data"
    }
   ],
   "source": [
    "plt.plot(history['accuracy'])\n",
    "plt.title('model accuracy')\n",
    "plt.ylabel('loss')\n",
    "plt.xlabel('epoch')\n",
    "plt.show()\n",
    "plt.close()"
   ]
  },
  {
   "cell_type": "code",
   "execution_count": 35,
   "id": "bd1db366",
   "metadata": {},
   "outputs": [
    {
     "data": {
      "image/png": "[encoded data removed]",
      "text/plain": [
       "<Figure size 432x288 with 1 Axes>"
      ]
     },
     "metadata": {
      "needs_background": "light"
     },
     "output_type": "display_data"
    }
   ],
   "source": [
    "plt.plot(history['f1_m'])\n",
    "plt.title('model f1 score')\n",
    "plt.ylabel('loss')\n",
    "plt.xlabel('epoch')\n",
    "plt.show()\n",
    "plt.close()"
   ]
  },
  {
   "cell_type": "code",
   "execution_count": 36,
   "id": "6f577c94",
   "metadata": {},
   "outputs": [
    {
     "data": {
      "image/png": "[encoded data removed]",
      "text/plain": [
       "<Figure size 432x288 with 1 Axes>"
      ]
     },
     "metadata": {
      "needs_background": "light"
     },
     "output_type": "display_data"
    }
   ],
   "source": [
    "plt.plot(history['precision_m'])\n",
    "plt.plot(history['recall_m'])\n",
    "plt.title('model precision and recall')\n",
    "plt.ylabel('loss')\n",
    "plt.xlabel('epoch')\n",
    "plt.legend(['precision','recall'])\n",
    "plt.show()\n",
    "plt.close()"
   ]
  },
  {
   "cell_type": "code",
   "execution_count": null,
   "id": "a5415058",
   "metadata": {},
   "outputs": [],
   "source": []
  }
 ],
 "metadata": {
  "kernelspec": {
   "display_name": "Python 3",
   "language": "python",
   "name": "python3"
  },
  "language_info": {
   "codemirror_mode": {
    "name": "ipython",
    "version": 3
   },
   "file_extension": ".py",
   "mimetype": "text/x-python",
   "name": "python",
   "nbconvert_exporter": "python",
   "pygments_lexer": "ipython3",
   "version": "3.8.8"
  }
 },
 "nbformat": 4,
 "nbformat_minor": 5
}
