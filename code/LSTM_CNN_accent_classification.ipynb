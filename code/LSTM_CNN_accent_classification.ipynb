{
 "cells": [
  {
   "cell_type": "code",
   "execution_count": 1,
   "id": "2b628d1d",
   "metadata": {},
   "outputs": [],
   "source": [
    "import numpy as np\n",
    "import pandas as pd\n",
    "import tensorflow as tf\n",
    "from tensorflow.keras.layers import Dense, Flatten, Reshape, Conv2D, MaxPooling2D, Conv1D, MaxPooling1D, LSTM, Attention\n",
    "from keras.utils import to_categorical\n",
    "from tensorflow.keras.models import Sequential\n",
    "import librosa\n",
    "from keras.utils.vis_utils import plot_model"
   ]
  },
  {
   "cell_type": "markdown",
   "id": "bd5689f6",
   "metadata": {},
   "source": [
    "# Data Generator"
   ]
  },
  {
   "cell_type": "code",
   "execution_count": 2,
   "id": "c2d273cb",
   "metadata": {},
   "outputs": [],
   "source": [
    "data = pd.read_csv(\"data_metadata.csv\")\n",
    "train_data = pd.read_csv(\"train_data.csv\")\n",
    "val_data = pd.read_csv(\"val_data.csv\")"
   ]
  },
  {
   "cell_type": "code",
   "execution_count": 3,
   "id": "43fa74cb",
   "metadata": {},
   "outputs": [],
   "source": [
    "class AudioDataGenerator(tf.keras.utils.Sequence):\n",
    "    def __init__(self, csv_file, batch_size=32, num_classes=11, sample_rate=22050, duration=10.0, shuffle=True, n_mels=128):\n",
    "        self.csv_file = csv_file\n",
    "        self.batch_size = batch_size\n",
    "        self.num_classes = num_classes\n",
    "        self.sample_rate = sample_rate\n",
    "        self.duration = duration\n",
    "        self.shuffle = shuffle\n",
    "        self.n_mels  = n_mels\n",
    "        \n",
    "        # Read the CSV file\n",
    "        self.data = pd.read_csv(csv_file)\n",
    "        \n",
    "        # Get the unique class labels\n",
    "        self.classes = sorted(self.data['class_label'].unique())\n",
    "        \n",
    "        # Create a dictionary to map class labels to integers\n",
    "        self.class_to_int = dict(zip(self.classes, range(len(self.classes))))\n",
    "        \n",
    "        # Shuffle the data if requested\n",
    "        if self.shuffle:\n",
    "            self.data = self.data.sample(frac=1).reset_index(drop=True)\n",
    "    \n",
    "    def __len__(self):\n",
    "        # Return the number of batches\n",
    "        return int(np.ceil(len(self.data) / float(self.batch_size)))\n",
    "    \n",
    "    def __getitem__(self, idx):\n",
    "        # Get the batch of file paths and labels\n",
    "        batch_data = self.data[idx * self.batch_size:(idx + 1) * self.batch_size]\n",
    "        batch_data = batch_data.reset_index()\n",
    "        # Initialize the arrays for the audio data and labels\n",
    "        batch_x = np.zeros((len(batch_data), 431, self.n_mels,1))\n",
    "        batch_y = np.zeros((len(batch_data), self.num_classes))\n",
    "        \n",
    "        # Load the audio files and their corresponding labels\n",
    "        for i, row in batch_data.iterrows():\n",
    "            file_path = row['file_path']\n",
    "            class_label = row['class_label']\n",
    "            \n",
    "            # Load the audio file\n",
    "            signal, sr = librosa.load(file_path, sr=self.sample_rate, mono=True)\n",
    "            \n",
    "            # Pad or truncate the signal to the desired length\n",
    "            signal = librosa.util.fix_length(signal, size=self.sample_rate * self.duration)\n",
    "            \n",
    "            # Convert the audio file to spectrogram\n",
    "            S = librosa.feature.melspectrogram(y=signal, sr=sr, n_mels=self.n_mels)\n",
    "            S_dB = np.array(librosa.power_to_db(S, ref=np.max))\n",
    "            S_dB = np.rot90(S_dB, k=3)\n",
    "            S_dB = S_dB.reshape(S_dB.shape[0],S_dB.shape[1],1)\n",
    "            \n",
    "            # Save the audio data and label to the batch arrays\n",
    "            batch_x[i, :] = S_dB\n",
    "            batch_y[i, :] = to_categorical(self.class_to_int[class_label], num_classes=self.num_classes)\n",
    "            \n",
    "\n",
    "        return batch_x, batch_y"
   ]
  },
  {
   "cell_type": "code",
   "execution_count": 4,
   "id": "ae408afe",
   "metadata": {},
   "outputs": [],
   "source": [
    "train_generator = AudioDataGenerator('train_data.csv', batch_size=32, num_classes=11, sample_rate=22050, duration=10, shuffle=True, n_mels=128)"
   ]
  },
  {
   "cell_type": "code",
   "execution_count": 5,
   "id": "3322f2bf",
   "metadata": {},
   "outputs": [],
   "source": [
    "val_generator = AudioDataGenerator('val_data.csv', batch_size=32, num_classes=11, sample_rate=22050, duration=10, shuffle=True, n_mels=128)"
   ]
  },
  {
   "cell_type": "markdown",
   "id": "25d5b793",
   "metadata": {},
   "source": [
    "# Model creation"
   ]
  },
  {
   "cell_type": "code",
   "execution_count": 6,
   "id": "a0058590",
   "metadata": {},
   "outputs": [],
   "source": [
    "# Defining Metrics\n",
    "\n",
    "from keras import backend as K\n",
    "\n",
    "def recall_m(y_true, y_pred):\n",
    "    true_positives = K.sum(K.round(K.clip(y_true * y_pred, 0, 1)))\n",
    "    possible_positives = K.sum(K.round(K.clip(y_true, 0, 1)))\n",
    "    recall = true_positives / (possible_positives + K.epsilon())\n",
    "    return recall\n",
    "\n",
    "def precision_m(y_true, y_pred):\n",
    "    true_positives = K.sum(K.round(K.clip(y_true * y_pred, 0, 1)))\n",
    "    predicted_positives = K.sum(K.round(K.clip(y_pred, 0, 1)))\n",
    "    precision = true_positives / (predicted_positives + K.epsilon())\n",
    "    return precision\n",
    "\n",
    "def f1_m(y_true, y_pred):\n",
    "    precision = precision_m(y_true, y_pred)\n",
    "    recall = recall_m(y_true, y_pred)\n",
    "    return 2*((precision*recall)/(precision+recall+K.epsilon()))"
   ]
  },
  {
   "cell_type": "code",
   "execution_count": 7,
   "id": "218445a5",
   "metadata": {},
   "outputs": [],
   "source": [
    "from keras.layers import Conv2D, MaxPooling2D, Flatten, Dense, Input, GlobalAveragePooling2D, Reshape, Multiply, Lambda\n",
    "from keras.models import Model\n",
    "import keras.backend as K"
   ]
  },
  {
   "cell_type": "code",
   "execution_count": 8,
   "id": "941ecfce",
   "metadata": {},
   "outputs": [],
   "source": [
    "# import os\n",
    "# os.environ[\"CUDA_VISIBLE_DEVICES\"]=\"-1\" "
   ]
  },
  {
   "cell_type": "code",
   "execution_count": 16,
   "id": "df8daa68",
   "metadata": {},
   "outputs": [],
   "source": [
    "from tensorflow.keras import layers"
   ]
  },
  {
   "cell_type": "code",
   "execution_count": 18,
   "id": "a45bee47",
   "metadata": {},
   "outputs": [],
   "source": [
    "data_augmentation = tf.keras.Sequential([\n",
    "  layers.RandomFlip(\"horizontal_and_vertical\")\n",
    "])"
   ]
  },
  {
   "cell_type": "code",
   "execution_count": 27,
   "id": "f6787989",
   "metadata": {},
   "outputs": [],
   "source": [
    "from tensorflow.keras.models import Model\n",
    "from tensorflow.keras.layers import Input, Conv2D, MaxPooling2D, Flatten, LSTM, Dense, Multiply, Reshape, Permute, Lambda\n",
    "\n",
    "# Define the input shape of the spectrogram (time_steps, frequency_bins, channels)\n",
    "input_shape = (431, 128, 1)\n",
    "\n",
    "# Define the input tensor\n",
    "inputs = Input(shape=input_shape)\n",
    "\n",
    "# Define the CNN layers\n",
    "x = Conv2D(32, kernel_size=(3, 3), activation='relu', padding='same')(inputs)\n",
    "x = MaxPooling2D(pool_size=(2, 2))(x)\n",
    "x = Conv2D(64, kernel_size=(3, 3), activation='relu', padding='same')(x)\n",
    "x = MaxPooling2D(pool_size=(2, 2))(x)\n",
    "x = Conv2D(128, kernel_size=(3, 3), activation='relu', padding='same')(x)\n",
    "x = MaxPooling2D(pool_size=(2, 2))(x)\n",
    "\n",
    "# Reshape the output of the CNN layers to be a sequence of feature vectors\n",
    "x = Reshape((-1, 128))(x)\n",
    "\n",
    "# Define the LSTM layers\n",
    "x = LSTM(128, return_sequences=True)(x)\n",
    "x = LSTM(128, return_sequences=True)(x)\n",
    "\n",
    "# Define the attention mechanism\n",
    "att = Dense(1, activation='tanh')(x)\n",
    "att = Flatten()(att)\n",
    "att = Dense(128, activation='softmax')(att)\n",
    "att = Lambda(lambda x: K.expand_dims(x))(att)\n",
    "att = Permute((2, 1))(att)\n",
    "x = Attention()([x, att])\n",
    "x = Lambda(lambda x: K.sum(x, axis=1))(x)\n",
    "\n",
    "# Define the classification layers\n",
    "x = Dense(64, activation='relu')(x)\n",
    "predictions = Dense(11, activation='softmax')(x)\n",
    "\n",
    "# Define the model\n",
    "model = Model(inputs=inputs, outputs=predictions)\n",
    "\n",
    "# Compile the model\n",
    "model.compile(loss='categorical_crossentropy', optimizer='adam', metrics=['accuracy',f1_m,precision_m, recall_m])\n"
   ]
  },
  {
   "cell_type": "code",
   "execution_count": 28,
   "id": "df5aa93f",
   "metadata": {},
   "outputs": [
    {
     "name": "stdout",
     "output_type": "stream",
     "text": [
      "Model: \"model_3\"\n",
      "__________________________________________________________________________________________________\n",
      " Layer (type)                   Output Shape         Param #     Connected to                     \n",
      "==================================================================================================\n",
      " input_6 (InputLayer)           [(None, 431, 128, 1  0           []                               \n",
      "                                )]                                                                \n",
      "                                                                                                  \n",
      " conv2d_10 (Conv2D)             (None, 431, 128, 32  320         ['input_6[0][0]']                \n",
      "                                )                                                                 \n",
      "                                                                                                  \n",
      " max_pooling2d_9 (MaxPooling2D)  (None, 215, 64, 32)  0          ['conv2d_10[0][0]']              \n",
      "                                                                                                  \n",
      " conv2d_11 (Conv2D)             (None, 215, 64, 64)  18496       ['max_pooling2d_9[0][0]']        \n",
      "                                                                                                  \n",
      " max_pooling2d_10 (MaxPooling2D  (None, 107, 32, 64)  0          ['conv2d_11[0][0]']              \n",
      " )                                                                                                \n",
      "                                                                                                  \n",
      " conv2d_12 (Conv2D)             (None, 107, 32, 128  73856       ['max_pooling2d_10[0][0]']       \n",
      "                                )                                                                 \n",
      "                                                                                                  \n",
      " max_pooling2d_11 (MaxPooling2D  (None, 53, 16, 128)  0          ['conv2d_12[0][0]']              \n",
      " )                                                                                                \n",
      "                                                                                                  \n",
      " reshape_3 (Reshape)            (None, 848, 128)     0           ['max_pooling2d_11[0][0]']       \n",
      "                                                                                                  \n",
      " lstm_6 (LSTM)                  (None, 848, 128)     131584      ['reshape_3[0][0]']              \n",
      "                                                                                                  \n",
      " lstm_7 (LSTM)                  (None, 848, 128)     131584      ['lstm_6[0][0]']                 \n",
      "                                                                                                  \n",
      " dense_12 (Dense)               (None, 848, 1)       129         ['lstm_7[0][0]']                 \n",
      "                                                                                                  \n",
      " flatten_3 (Flatten)            (None, 848)          0           ['dense_12[0][0]']               \n",
      "                                                                                                  \n",
      " dense_13 (Dense)               (None, 128)          108672      ['flatten_3[0][0]']              \n",
      "                                                                                                  \n",
      " lambda_8 (Lambda)              (None, 128, 1)       0           ['dense_13[0][0]']               \n",
      "                                                                                                  \n",
      " permute_3 (Permute)            (None, 1, 128)       0           ['lambda_8[0][0]']               \n",
      "                                                                                                  \n",
      " attention_2 (Attention)        (None, 848, 128)     0           ['lstm_7[0][0]',                 \n",
      "                                                                  'permute_3[0][0]']              \n",
      "                                                                                                  \n",
      " lambda_9 (Lambda)              (None, 128)          0           ['attention_2[0][0]']            \n",
      "                                                                                                  \n",
      " dense_14 (Dense)               (None, 64)           8256        ['lambda_9[0][0]']               \n",
      "                                                                                                  \n",
      " dense_15 (Dense)               (None, 11)           715         ['dense_14[0][0]']               \n",
      "                                                                                                  \n",
      "==================================================================================================\n",
      "Total params: 473,612\n",
      "Trainable params: 473,612\n",
      "Non-trainable params: 0\n",
      "__________________________________________________________________________________________________\n"
     ]
    }
   ],
   "source": [
    "model.summary()"
   ]
  },
  {
   "cell_type": "code",
   "execution_count": 30,
   "id": "dbe50d8c",
   "metadata": {},
   "outputs": [
    {
     "name": "stdout",
     "output_type": "stream",
     "text": [
      "Epoch 1/16\n",
      "447/447 [==============================] - 384s 858ms/step - loss: 2.2855 - accuracy: 0.2871 - f1_m: 0.1027 - precision_m: 0.1787 - recall_m: 0.0805\n",
      "Epoch 2/16\n",
      "447/447 [==============================] - 378s 845ms/step - loss: 1.5291 - accuracy: 0.4397 - f1_m: 0.2958 - precision_m: 0.5179 - recall_m: 0.2255\n",
      "Epoch 3/16\n",
      "447/447 [==============================] - 374s 836ms/step - loss: 1.4613 - accuracy: 0.4554 - f1_m: 0.3508 - precision_m: 0.5741 - recall_m: 0.2648\n",
      "Epoch 4/16\n",
      "447/447 [==============================] - 377s 843ms/step - loss: 0.9364 - accuracy: 0.6495 - f1_m: 0.6151 - precision_m: 0.7441 - recall_m: 0.5305\n",
      "Epoch 5/16\n",
      "447/447 [==============================] - 375s 838ms/step - loss: 0.6525 - accuracy: 0.7542 - f1_m: 0.7471 - precision_m: 0.8078 - recall_m: 0.6975\n",
      "Epoch 6/16\n",
      "447/447 [==============================] - 375s 839ms/step - loss: 0.4458 - accuracy: 0.8349 - f1_m: 0.8321 - precision_m: 0.8654 - recall_m: 0.8029\n",
      "Epoch 7/16\n",
      "447/447 [==============================] - 372s 831ms/step - loss: 0.3203 - accuracy: 0.8817 - f1_m: 0.8820 - precision_m: 0.9016 - recall_m: 0.8638\n",
      "Epoch 8/16\n",
      "447/447 [==============================] - 369s 825ms/step - loss: 0.2467 - accuracy: 0.9116 - f1_m: 0.9112 - precision_m: 0.9239 - recall_m: 0.8993\n",
      "Epoch 9/16\n",
      "447/447 [==============================] - 376s 841ms/step - loss: 0.1925 - accuracy: 0.9346 - f1_m: 0.9339 - precision_m: 0.9423 - recall_m: 0.9259\n",
      "Epoch 10/16\n",
      "447/447 [==============================] - 371s 829ms/step - loss: 0.1708 - accuracy: 0.9390 - f1_m: 0.9397 - precision_m: 0.9476 - recall_m: 0.9322\n",
      "Epoch 11/16\n",
      "447/447 [==============================] - 374s 836ms/step - loss: 0.1759 - accuracy: 0.9383 - f1_m: 0.9385 - precision_m: 0.9456 - recall_m: 0.9316\n",
      "Epoch 12/16\n",
      "447/447 [==============================] - 369s 826ms/step - loss: 0.1325 - accuracy: 0.9549 - f1_m: 0.9552 - precision_m: 0.9592 - recall_m: 0.9513\n",
      "Epoch 13/16\n",
      "447/447 [==============================] - 370s 827ms/step - loss: 0.0938 - accuracy: 0.9690 - f1_m: 0.9689 - precision_m: 0.9721 - recall_m: 0.9658\n",
      "Epoch 14/16\n",
      "447/447 [==============================] - 374s 835ms/step - loss: 0.1039 - accuracy: 0.9654 - f1_m: 0.9657 - precision_m: 0.9689 - recall_m: 0.9627\n",
      "Epoch 15/16\n",
      "447/447 [==============================] - 367s 822ms/step - loss: 0.1057 - accuracy: 0.9666 - f1_m: 0.9671 - precision_m: 0.9695 - recall_m: 0.9648\n",
      "Epoch 16/16\n",
      "447/447 [==============================] - 372s 832ms/step - loss: 0.1002 - accuracy: 0.9669 - f1_m: 0.9670 - precision_m: 0.9700 - recall_m: 0.9641\n"
     ]
    }
   ],
   "source": [
    "history = model.fit(train_generator,batch_size=32,epochs=16,verbose=1)"
   ]
  },
  {
   "cell_type": "code",
   "execution_count": null,
   "id": "c16ffb6e",
   "metadata": {},
   "outputs": [],
   "source": [
    "model.save(\"CNN_LSTM.h5\")"
   ]
  },
  {
   "cell_type": "code",
   "execution_count": null,
   "id": "7f9bf53d",
   "metadata": {},
   "outputs": [],
   "source": [
    "model =tf.keras.models.load_model(\"CNN_LSTM.h5\",custom_objects={\"f1_m\":f1_m,'precision_m':precision_m, 'recall_m':recall_m})"
   ]
  },
  {
   "cell_type": "code",
   "execution_count": 31,
   "id": "35006ecc",
   "metadata": {},
   "outputs": [
    {
     "name": "stdout",
     "output_type": "stream",
     "text": [
      "112/112 [==============================] - 102s 877ms/step - loss: 0.3675 - accuracy: 0.9038 - f1_m: 0.9051 - precision_m: 0.9091 - recall_m: 0.9012\n"
     ]
    }
   ],
   "source": [
    "loss, accuracy, f1_score, precision, recall = model.evaluate(val_generator)"
   ]
  },
  {
   "cell_type": "code",
   "execution_count": 32,
   "id": "48bfb8ba",
   "metadata": {},
   "outputs": [
    {
     "name": "stdout",
     "output_type": "stream",
     "text": [
      "Validation accuracy: 0.9038031101226807\n",
      "Validation loss: 0.36747875809669495\n",
      "Validation f1: 0.9051002860069275\n",
      "Validation precision: 0.9091225266456604\n",
      "Validation recall: 0.9012276530265808\n"
     ]
    }
   ],
   "source": [
    "print('Validation accuracy:', accuracy)\n",
    "print('Validation loss:', loss)\n",
    "print('Validation f1:', f1_score)\n",
    "print('Validation precision:', precision)\n",
    "print('Validation recall:', recall)\n"
   ]
  },
  {
   "cell_type": "code",
   "execution_count": 33,
   "id": "09a6a98a",
   "metadata": {},
   "outputs": [],
   "source": [
    "import pickle"
   ]
  },
  {
   "cell_type": "code",
   "execution_count": 34,
   "id": "baa44a46",
   "metadata": {},
   "outputs": [],
   "source": [
    "pickle_out = open(\"CNN_LSTM_history.pickle\",\"wb\")\n",
    "pickle.dump(history.history, pickle_out)\n",
    "pickle_out.close()"
   ]
  },
  {
   "cell_type": "code",
   "execution_count": 35,
   "id": "2eb4a39a",
   "metadata": {},
   "outputs": [],
   "source": [
    "pickle_in = open('CNN_LSTM_history.pickle', \"rb\")\n",
    "history = pickle.load(pickle_in)"
   ]
  },
  {
   "cell_type": "code",
   "execution_count": 36,
   "id": "5973ebc3",
   "metadata": {},
   "outputs": [
    {
     "ename": "AttributeError",
     "evalue": "'dict' object has no attribute 'history'",
     "output_type": "error",
     "traceback": [
      "\u001b[1;31m---------------------------------------------------------------------------\u001b[0m",
      "\u001b[1;31mAttributeError\u001b[0m                            Traceback (most recent call last)",
      "\u001b[1;32m<ipython-input-36-1321cc43849b>\u001b[0m in \u001b[0;36m<module>\u001b[1;34m\u001b[0m\n\u001b[1;32m----> 1\u001b[1;33m \u001b[0mhistory\u001b[0m \u001b[1;33m=\u001b[0m \u001b[0mhistory\u001b[0m\u001b[1;33m.\u001b[0m\u001b[0mhistory\u001b[0m\u001b[1;33m\u001b[0m\u001b[1;33m\u001b[0m\u001b[0m\n\u001b[0m",
      "\u001b[1;31mAttributeError\u001b[0m: 'dict' object has no attribute 'history'"
     ]
    }
   ],
   "source": [
    "history = history.history"
   ]
  },
  {
   "cell_type": "code",
   "execution_count": 37,
   "id": "dada88c5",
   "metadata": {},
   "outputs": [],
   "source": [
    "import matplotlib.pyplot as plt"
   ]
  },
  {
   "cell_type": "code",
   "execution_count": 38,
   "id": "d9cc5c12",
   "metadata": {},
   "outputs": [
    {
     "data": {
      "image/png": "[encoded data removed]",
      "text/plain": [
       "<Figure size 432x288 with 1 Axes>"
      ]
     },
     "metadata": {
      "needs_background": "light"
     },
     "output_type": "display_data"
    }
   ],
   "source": [
    "plt.plot(history['loss'])\n",
    "plt.title('model loss')\n",
    "plt.ylabel('loss')\n",
    "plt.xlabel('epoch')\n",
    "plt.show()\n",
    "plt.close()"
   ]
  },
  {
   "cell_type": "code",
   "execution_count": 39,
   "id": "d8fa287e",
   "metadata": {},
   "outputs": [
    {
     "data": {
      "image/png": "[encoded data removed]",
      "text/plain": [
       "<Figure size 432x288 with 1 Axes>"
      ]
     },
     "metadata": {
      "needs_background": "light"
     },
     "output_type": "display_data"
    }
   ],
   "source": [
    "plt.plot(history['accuracy'])\n",
    "plt.title('model accuracy')\n",
    "plt.ylabel('loss')\n",
    "plt.xlabel('epoch')\n",
    "plt.show()\n",
    "plt.close()"
   ]
  },
  {
   "cell_type": "code",
   "execution_count": 40,
   "id": "bd1db366",
   "metadata": {},
   "outputs": [
    {
     "data": {
      "image/png": "[encoded data removed]",
      "text/plain": [
       "<Figure size 432x288 with 1 Axes>"
      ]
     },
     "metadata": {
      "needs_background": "light"
     },
     "output_type": "display_data"
    }
   ],
   "source": [
    "plt.plot(history['f1_m'])\n",
    "plt.title('model f1 score')\n",
    "plt.ylabel('loss')\n",
    "plt.xlabel('epoch')\n",
    "plt.show()\n",
    "plt.close()"
   ]
  },
  {
   "cell_type": "code",
   "execution_count": 41,
   "id": "6f577c94",
   "metadata": {},
   "outputs": [
    {
     "data": {
      "image/png": "[encoded data removed]",
      "text/plain": [
       "<Figure size 432x288 with 1 Axes>"
      ]
     },
     "metadata": {
      "needs_background": "light"
     },
     "output_type": "display_data"
    }
   ],
   "source": [
    "plt.plot(history['precision_m'])\n",
    "plt.plot(history['recall_m'])\n",
    "plt.title('model precision and recall')\n",
    "plt.ylabel('loss')\n",
    "plt.xlabel('epoch')\n",
    "plt.legend(['precision','recall'])\n",
    "plt.show()\n",
    "plt.close()"
   ]
  },
  {
   "cell_type": "code",
   "execution_count": null,
   "id": "a5415058",
   "metadata": {},
   "outputs": [],
   "source": []
  }
 ],
 "metadata": {
  "kernelspec": {
   "display_name": "Python 3",
   "language": "python",
   "name": "python3"
  },
  "language_info": {
   "codemirror_mode": {
    "name": "ipython",
    "version": 3
   },
   "file_extension": ".py",
   "mimetype": "text/x-python",
   "name": "python",
   "nbconvert_exporter": "python",
   "pygments_lexer": "ipython3",
   "version": "3.8.8"
  }
 },
 "nbformat": 4,
 "nbformat_minor": 5
}
