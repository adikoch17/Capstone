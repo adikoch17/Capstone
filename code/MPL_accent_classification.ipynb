{
 "cells": [
  {
   "cell_type": "code",
   "execution_count": 1,
   "id": "bacc2d1e",
   "metadata": {},
   "outputs": [],
   "source": [
    "import librosa\n",
    "import pandas as pd\n",
    "import numpy as np\n",
    "import tensorflow as tf"
   ]
  },
  {
   "cell_type": "code",
   "execution_count": 2,
   "id": "fdd7e2b5",
   "metadata": {},
   "outputs": [],
   "source": [
    "data = pd.read_csv(\"data_metadata.csv\")\n",
    "train_data = pd.read_csv(\"train_data.csv\")\n",
    "val_data = pd.read_csv(\"val_data.csv\")"
   ]
  },
  {
   "cell_type": "code",
   "execution_count": 3,
   "id": "2056ed6f",
   "metadata": {},
   "outputs": [
    {
     "data": {
      "text/html": [
       "<div>\n",
       "<style scoped>\n",
       "    .dataframe tbody tr th:only-of-type {\n",
       "        vertical-align: middle;\n",
       "    }\n",
       "\n",
       "    .dataframe tbody tr th {\n",
       "        vertical-align: top;\n",
       "    }\n",
       "\n",
       "    .dataframe thead th {\n",
       "        text-align: right;\n",
       "    }\n",
       "</style>\n",
       "<table border=\"1\" class=\"dataframe\">\n",
       "  <thead>\n",
       "    <tr style=\"text-align: right;\">\n",
       "      <th></th>\n",
       "      <th>file_path</th>\n",
       "      <th>class_label</th>\n",
       "    </tr>\n",
       "  </thead>\n",
       "  <tbody>\n",
       "    <tr>\n",
       "      <th>count</th>\n",
       "      <td>17877</td>\n",
       "      <td>17877</td>\n",
       "    </tr>\n",
       "    <tr>\n",
       "      <th>unique</th>\n",
       "      <td>17877</td>\n",
       "      <td>11</td>\n",
       "    </tr>\n",
       "    <tr>\n",
       "      <th>top</th>\n",
       "      <td>C:/Users/adity/Desktop/Capstone/data/irish_eng...</td>\n",
       "      <td>southern_english_male</td>\n",
       "    </tr>\n",
       "    <tr>\n",
       "      <th>freq</th>\n",
       "      <td>1</td>\n",
       "      <td>4331</td>\n",
       "    </tr>\n",
       "  </tbody>\n",
       "</table>\n",
       "</div>"
      ],
      "text/plain": [
       "                                                file_path  \\\n",
       "count                                               17877   \n",
       "unique                                              17877   \n",
       "top     C:/Users/adity/Desktop/Capstone/data/irish_eng...   \n",
       "freq                                                    1   \n",
       "\n",
       "                  class_label  \n",
       "count                   17877  \n",
       "unique                     11  \n",
       "top     southern_english_male  \n",
       "freq                     4331  "
      ]
     },
     "execution_count": 3,
     "metadata": {},
     "output_type": "execute_result"
    }
   ],
   "source": [
    "data.describe()"
   ]
  },
  {
   "cell_type": "code",
   "execution_count": 14,
   "id": "bcf55dae",
   "metadata": {},
   "outputs": [],
   "source": [
    "import tensorflow as tf\n",
    "from keras.utils import to_categorical"
   ]
  },
  {
   "cell_type": "code",
   "execution_count": 32,
   "id": "5784da5e",
   "metadata": {},
   "outputs": [],
   "source": [
    "class AudioDataGenerator(tf.keras.utils.Sequence):\n",
    "    def __init__(self, csv_file, batch_size=32, num_classes=11, sample_rate=22050, duration=10.0, shuffle=True, n_mels=128):\n",
    "        self.csv_file = csv_file\n",
    "        self.batch_size = batch_size\n",
    "        self.num_classes = num_classes\n",
    "        self.sample_rate = sample_rate\n",
    "        self.duration = duration\n",
    "        self.shuffle = shuffle\n",
    "        self.n_mels  = n_mels\n",
    "        \n",
    "        # Read the CSV file\n",
    "        self.data = pd.read_csv(csv_file)\n",
    "        \n",
    "        # Get the unique class labels\n",
    "        self.classes = sorted(self.data['class_label'].unique())\n",
    "        \n",
    "        # Create a dictionary to map class labels to integers\n",
    "        self.class_to_int = dict(zip(self.classes, range(len(self.classes))))\n",
    "        \n",
    "        # Shuffle the data if requested\n",
    "        if self.shuffle:\n",
    "            self.data = self.data.sample(frac=1).reset_index(drop=True)\n",
    "    \n",
    "    def __len__(self):\n",
    "        # Return the number of batches\n",
    "        return int(np.ceil(len(self.data) / float(self.batch_size)))\n",
    "    \n",
    "    def __getitem__(self, idx):\n",
    "        # Get the batch of file paths and labels\n",
    "        batch_data = self.data[idx * self.batch_size:(idx + 1) * self.batch_size]\n",
    "        batch_data = batch_data.reset_index()\n",
    "        # Initialize the arrays for the audio data and labels\n",
    "        batch_x = np.zeros((len(batch_data), self.n_mels, 431,1))\n",
    "        batch_y = np.zeros((len(batch_data), self.num_classes))\n",
    "        \n",
    "        # Load the audio files and their corresponding labels\n",
    "        for i, row in batch_data.iterrows():\n",
    "            file_path = row['file_path']\n",
    "            class_label = row['class_label']\n",
    "            \n",
    "            # Load the audio file\n",
    "            signal, sr = librosa.load(file_path, sr=self.sample_rate, mono=True)\n",
    "            \n",
    "            # Pad or truncate the signal to the desired length\n",
    "            signal = librosa.util.fix_length(signal, size=self.sample_rate * self.duration)\n",
    "            \n",
    "            # Convert the audio file to spectrogram\n",
    "            S = librosa.feature.melspectrogram(y=signal, sr=sr, n_mels=self.n_mels)\n",
    "            S_dB = np.array(librosa.power_to_db(S, ref=np.max))\n",
    "            S_dB = S_dB.reshape(S_dB.shape[0],S_dB.shape[1],1)\n",
    "            \n",
    "            # Save the audio data and label to the batch arrays\n",
    "            batch_x[i, :] = S_dB\n",
    "            batch_y[i, :] = to_categorical(self.class_to_int[class_label], num_classes=self.num_classes)\n",
    "            \n",
    "\n",
    "        return batch_x, batch_y"
   ]
  },
  {
   "cell_type": "code",
   "execution_count": 33,
   "id": "e52409b2",
   "metadata": {},
   "outputs": [],
   "source": [
    "train_generator = AudioDataGenerator('train_data.csv', batch_size=32, num_classes=11, sample_rate=22050, duration=10, shuffle=True, n_mels=128)"
   ]
  },
  {
   "cell_type": "code",
   "execution_count": 34,
   "id": "db4cd75c",
   "metadata": {},
   "outputs": [],
   "source": [
    "import tensorflow as tf\n",
    "from tensorflow.keras.models import Sequential\n",
    "from tensorflow.keras.layers import Dense,Flatten"
   ]
  },
  {
   "cell_type": "code",
   "execution_count": 35,
   "id": "576fe5f8",
   "metadata": {},
   "outputs": [],
   "source": [
    "model = Sequential()"
   ]
  },
  {
   "cell_type": "code",
   "execution_count": 36,
   "id": "9b196f11",
   "metadata": {},
   "outputs": [],
   "source": [
    "from keras import backend as K\n",
    "\n",
    "def recall_m(y_true, y_pred):\n",
    "    true_positives = K.sum(K.round(K.clip(y_true * y_pred, 0, 1)))\n",
    "    possible_positives = K.sum(K.round(K.clip(y_true, 0, 1)))\n",
    "    recall = true_positives / (possible_positives + K.epsilon())\n",
    "    return recall\n",
    "\n",
    "def precision_m(y_true, y_pred):\n",
    "    true_positives = K.sum(K.round(K.clip(y_true * y_pred, 0, 1)))\n",
    "    predicted_positives = K.sum(K.round(K.clip(y_pred, 0, 1)))\n",
    "    precision = true_positives / (predicted_positives + K.epsilon())\n",
    "    return precision\n",
    "\n",
    "def f1_m(y_true, y_pred):\n",
    "    precision = precision_m(y_true, y_pred)\n",
    "    recall = recall_m(y_true, y_pred)\n",
    "    return 2*((precision*recall)/(precision+recall+K.epsilon()))"
   ]
  },
  {
   "cell_type": "code",
   "execution_count": 37,
   "id": "c6d6c4a5",
   "metadata": {},
   "outputs": [],
   "source": [
    "model.add(Flatten())\n",
    "model.add(Dense(128,activation='relu'))\n",
    "model.add(Dense(128,activation='relu'))\n",
    "model.add(Dense(128,activation='relu'))\n",
    "model.add(Dense(128,activation='relu'))\n",
    "model.add(Dense(11,activation='softmax'))\n",
    "model.compile(loss='categorical_crossentropy',optimizer='adam',metrics=['accuracy',f1_m,precision_m, recall_m])\n"
   ]
  },
  {
   "cell_type": "code",
   "execution_count": 38,
   "id": "789e3ea1",
   "metadata": {},
   "outputs": [
    {
     "name": "stdout",
     "output_type": "stream",
     "text": [
      "Model: \"sequential_4\"\n",
      "_________________________________________________________________\n",
      " Layer (type)                Output Shape              Param #   \n",
      "=================================================================\n",
      " flatten_3 (Flatten)         (None, 55168)             0         \n",
      "                                                                 \n",
      " dense_15 (Dense)            (None, 128)               7061632   \n",
      "                                                                 \n",
      " dense_16 (Dense)            (None, 128)               16512     \n",
      "                                                                 \n",
      " dense_17 (Dense)            (None, 128)               16512     \n",
      "                                                                 \n",
      " dense_18 (Dense)            (None, 128)               16512     \n",
      "                                                                 \n",
      " dense_19 (Dense)            (None, 11)                1419      \n",
      "                                                                 \n",
      "=================================================================\n",
      "Total params: 7,112,587\n",
      "Trainable params: 7,112,587\n",
      "Non-trainable params: 0\n",
      "_________________________________________________________________\n"
     ]
    }
   ],
   "source": [
    "model.build((None,128,431,1))\n",
    "model.summary()"
   ]
  },
  {
   "cell_type": "code",
   "execution_count": 39,
   "id": "de69a61c",
   "metadata": {},
   "outputs": [
    {
     "name": "stdout",
     "output_type": "stream",
     "text": [
      "Epoch 1/8\n",
      "447/447 [==============================] - 359s 802ms/step - loss: 104.3199 - accuracy: 0.1982 - f1_m: 0.0669 - precision_m: 0.0684 - recall_m: 0.0663\n",
      "Epoch 2/8\n",
      "447/447 [==============================] - 357s 799ms/step - loss: 2.0850 - accuracy: 0.2440 - f1_m: 0.0000e+00 - precision_m: 0.0000e+00 - recall_m: 0.0000e+00\n",
      "Epoch 3/8\n",
      "447/447 [==============================] - 357s 799ms/step - loss: 2.0852 - accuracy: 0.2379 - f1_m: 0.0000e+00 - precision_m: 0.0000e+00 - recall_m: 0.0000e+00\n",
      "Epoch 4/8\n",
      "447/447 [==============================] - 359s 803ms/step - loss: 2.0853 - accuracy: 0.2401 - f1_m: 0.0000e+00 - precision_m: 0.0000e+00 - recall_m: 0.0000e+00\n",
      "Epoch 5/8\n",
      "447/447 [==============================] - 363s 811ms/step - loss: 2.0852 - accuracy: 0.2387 - f1_m: 0.0000e+00 - precision_m: 0.0000e+00 - recall_m: 0.0000e+00\n",
      "Epoch 6/8\n",
      "447/447 [==============================] - 362s 810ms/step - loss: 2.0846 - accuracy: 0.2405 - f1_m: 0.0000e+00 - precision_m: 0.0000e+00 - recall_m: 0.0000e+00\n",
      "Epoch 7/8\n",
      "447/447 [==============================] - 358s 801ms/step - loss: 2.0848 - accuracy: 0.2403 - f1_m: 0.0000e+00 - precision_m: 0.0000e+00 - recall_m: 0.0000e+00\n",
      "Epoch 8/8\n",
      "447/447 [==============================] - 360s 805ms/step - loss: 2.0850 - accuracy: 0.2420 - f1_m: 0.0000e+00 - precision_m: 0.0000e+00 - recall_m: 0.0000e+00\n"
     ]
    }
   ],
   "source": [
    "history = model.fit(train_generator,batch_size=32,epochs=8,verbose=1)"
   ]
  },
  {
   "cell_type": "code",
   "execution_count": 44,
   "id": "42032082",
   "metadata": {},
   "outputs": [],
   "source": [
    "val_generator = AudioDataGenerator('val_data.csv', batch_size=32, num_classes=11, sample_rate=22050, duration=10, shuffle=True, n_mels=128)"
   ]
  },
  {
   "cell_type": "code",
   "execution_count": 42,
   "id": "fcc3c731",
   "metadata": {},
   "outputs": [],
   "source": [
    "model.save(\"MLP.h5\")"
   ]
  },
  {
   "cell_type": "code",
   "execution_count": 45,
   "id": "495faf2e",
   "metadata": {},
   "outputs": [
    {
     "name": "stdout",
     "output_type": "stream",
     "text": [
      "112/112 [==============================] - 95s 844ms/step - loss: 2.0800 - accuracy: 0.2427 - f1_m: 0.0000e+00 - precision_m: 0.0000e+00 - recall_m: 0.0000e+00\n"
     ]
    }
   ],
   "source": [
    "# Evaluate the model on the validation data\n",
    "loss, accuracy, f1_score, precision, recall = model.evaluate(val_generator)\n"
   ]
  },
  {
   "cell_type": "code",
   "execution_count": 47,
   "id": "15d7fe23",
   "metadata": {},
   "outputs": [
    {
     "name": "stdout",
     "output_type": "stream",
     "text": [
      "Validation accuracy: 0.2427293062210083\n",
      "Validation loss: 2.0799527168273926\n",
      "Validation f1: 0.0\n",
      "Validation precision: 0.0\n",
      "Validation recall: 0.0\n"
     ]
    }
   ],
   "source": [
    "print('Validation accuracy:', accuracy)\n",
    "print('Validation loss:', loss)\n",
    "print('Validation f1:', f1_score)\n",
    "print('Validation precision:', precision)\n",
    "print('Validation recall:', recall)\n"
   ]
  },
  {
   "cell_type": "code",
   "execution_count": 46,
   "id": "d5c4783b",
   "metadata": {},
   "outputs": [],
   "source": [
    "import pickle"
   ]
  },
  {
   "cell_type": "code",
   "execution_count": 48,
   "id": "86c55b96",
   "metadata": {},
   "outputs": [],
   "source": [
    "pickle_out = open(\"MLP_history.pickle\",\"wb\")\n",
    "pickle.dump(history.history, pickle_out)\n",
    "pickle_out.close()"
   ]
  },
  {
   "cell_type": "code",
   "execution_count": 49,
   "id": "b30cb704",
   "metadata": {},
   "outputs": [],
   "source": [
    "pickle_in = open('MLP_history.pickle', \"rb\")\n",
    "history = pickle.load(pickle_in)"
   ]
  },
  {
   "cell_type": "code",
   "execution_count": 50,
   "id": "d2e712a6",
   "metadata": {},
   "outputs": [],
   "source": [
    "import matplotlib.pyplot as plt"
   ]
  },
  {
   "cell_type": "code",
   "execution_count": 51,
   "id": "4e1b6d53",
   "metadata": {},
   "outputs": [
    {
     "data": {
      "image/png": "[encoded data removed]",
      "text/plain": [
       "<Figure size 432x288 with 1 Axes>"
      ]
     },
     "metadata": {
      "needs_background": "light"
     },
     "output_type": "display_data"
    }
   ],
   "source": [
    "plt.plot(history['loss'])\n",
    "plt.title('model loss')\n",
    "plt.ylabel('loss')\n",
    "plt.xlabel('epoch')\n",
    "plt.show()\n",
    "plt.close()"
   ]
  },
  {
   "cell_type": "code",
   "execution_count": 52,
   "id": "92b438e4",
   "metadata": {},
   "outputs": [
    {
     "data": {
      "image/png": "[encoded data removed]",
      "text/plain": [
       "<Figure size 432x288 with 1 Axes>"
      ]
     },
     "metadata": {
      "needs_background": "light"
     },
     "output_type": "display_data"
    }
   ],
   "source": [
    "plt.plot(history['accuracy'])\n",
    "plt.title('model accuracy')\n",
    "plt.ylabel('loss')\n",
    "plt.xlabel('epoch')\n",
    "plt.show()\n",
    "plt.close()"
   ]
  },
  {
   "cell_type": "code",
   "execution_count": null,
   "id": "d4a20ac0",
   "metadata": {},
   "outputs": [],
   "source": []
  }
 ],
 "metadata": {
  "kernelspec": {
   "display_name": "Python 3",
   "language": "python",
   "name": "python3"
  },
  "language_info": {
   "codemirror_mode": {
    "name": "ipython",
    "version": 3
   },
   "file_extension": ".py",
   "mimetype": "text/x-python",
   "name": "python",
   "nbconvert_exporter": "python",
   "pygments_lexer": "ipython3",
   "version": "3.8.8"
  }
 },
 "nbformat": 4,
 "nbformat_minor": 5
}
